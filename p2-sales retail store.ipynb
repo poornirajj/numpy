{
 "cells": [
  {
   "cell_type": "code",
   "execution_count": 7,
   "id": "8fd515fa",
   "metadata": {},
   "outputs": [],
   "source": [
    "import numpy as np"
   ]
  },
  {
   "cell_type": "code",
   "execution_count": 8,
   "id": "434bec76",
   "metadata": {},
   "outputs": [
    {
     "name": "stdout",
     "output_type": "stream",
     "text": [
      "Sales Data (5 Products x 12 Months):\n",
      " [[202 448 370 206 171 288 120 202 221 314 430 187]\n",
      " [472 199 459 251 230 249 408 357 443 393 485 291]\n",
      " [376 260 413 121 352 335 444 148 158 269 287 370]\n",
      " [289 274 150 463 154 343 419 230 406 234 120 428]\n",
      " [266 373 487 188 415 113 341 364 445 152 485 439]]\n"
     ]
    }
   ],
   "source": [
    "np.random.seed(42)\n",
    "\n",
    "sales_data = np.random.randint(100, 501, size=(5, 12))\n",
    "\n",
    "print(\"Sales Data (5 Products x 12 Months):\\n\", sales_data)"
   ]
  },
  {
   "cell_type": "markdown",
   "id": "f6beef17",
   "metadata": {},
   "source": [
    " # 2. Element-wise Operations"
   ]
  },
  {
   "cell_type": "code",
   "execution_count": 9,
   "id": "24b550a6",
   "metadata": {},
   "outputs": [
    {
     "name": "stdout",
     "output_type": "stream",
     "text": [
      "\n",
      "Yearly Sales per Product:\n",
      " [3159 4237 3533 3510 4068]\n",
      "\n",
      "Monthly Growth per Product:\n",
      " [[ 246  -78 -164  -35  117 -168   82   19   93  116 -243]\n",
      " [-273  260 -208  -21   19  159  -51   86  -50   92 -194]\n",
      " [-116  153 -292  231  -17  109 -296   10  111   18   83]\n",
      " [ -15 -124  313 -309  189   76 -189  176 -172 -114  308]\n",
      " [ 107  114 -299  227 -302  228   23   81 -293  333  -46]]\n"
     ]
    }
   ],
   "source": [
    "yearly_sales = np.sum(sales_data, axis=1)\n",
    "print(\"\\nYearly Sales per Product:\\n\", yearly_sales)\n",
    "\n",
    "\n",
    "monthly_growth = np.diff(sales_data, axis=1)\n",
    "print(\"\\nMonthly Growth per Product:\\n\", monthly_growth)"
   ]
  },
  {
   "cell_type": "markdown",
   "id": "ee58475e",
   "metadata": {},
   "source": [
    "# 10% discount applied (i.e., 90% of original sales)"
   ]
  },
  {
   "cell_type": "code",
   "execution_count": 10,
   "id": "4543ab69",
   "metadata": {},
   "outputs": [
    {
     "name": "stdout",
     "output_type": "stream",
     "text": [
      "\n",
      "Discounted Sales (10% off):\n",
      " [[181.8 403.2 333.  185.4 153.9 259.2 108.  181.8 198.9 282.6 387.  168.3]\n",
      " [424.8 179.1 413.1 225.9 207.  224.1 367.2 321.3 398.7 353.7 436.5 261.9]\n",
      " [338.4 234.  371.7 108.9 316.8 301.5 399.6 133.2 142.2 242.1 258.3 333. ]\n",
      " [260.1 246.6 135.  416.7 138.6 308.7 377.1 207.  365.4 210.6 108.  385.2]\n",
      " [239.4 335.7 438.3 169.2 373.5 101.7 306.9 327.6 400.5 136.8 436.5 395.1]]\n"
     ]
    }
   ],
   "source": [
    "\n",
    "discounted_sales = sales_data * 0.9\n",
    "print(\"\\nDiscounted Sales (10% off):\\n\", discounted_sales)\n"
   ]
  },
  {
   "cell_type": "code",
   "execution_count": 11,
   "id": "b4f9e3eb",
   "metadata": {},
   "outputs": [
    {
     "name": "stdout",
     "output_type": "stream",
     "text": [
      "\n",
      "Exponential Growth:\n",
      " [[  7.53832493  88.23467268  40.44730436   7.84596981   5.52896148\n",
      "   17.81427318   3.32011692   7.53832493   9.11571639  23.10386686\n",
      "   73.6997937    6.4882964 ]\n",
      " [112.16825267   7.31553376  98.49443016  12.30493006   9.97418245\n",
      "   12.06127612  59.14546985  35.51659315  83.93141691  50.90697767\n",
      "  127.74038985  18.35679857]\n",
      " [ 42.94842598  13.46373804  62.17792293   3.35348465  33.78442846\n",
      "   28.50273364  84.77494167   4.39294568   4.85495581  14.73167592\n",
      "   17.6370182   40.44730436]\n",
      " [ 17.9933096   15.4869851    4.48168907 102.51406411   4.66459027\n",
      "   30.87664275  66.02279096   9.97418245  57.97431108  10.38123656\n",
      "    3.32011692  72.24044001]\n",
      " [ 14.2962891   41.67910816 130.3209169    6.55350486  63.4340003\n",
      "    3.0956565   30.26524426  38.09183673  85.626944     4.5722252\n",
      "  127.74038985  80.64041898]]\n",
      "\n",
      "Logarithmic Sales Data:\n",
      " [[5.3082677  6.10479323 5.91350301 5.32787617 5.14166356 5.66296048\n",
      "  4.78749174 5.3082677  5.3981627  5.74939299 6.06378521 5.23110862]\n",
      " [6.15697899 5.29330482 6.12905021 5.52545294 5.43807931 5.5174529\n",
      "  6.01126717 5.87773578 6.09356977 5.97380961 6.18414889 5.67332327]\n",
      " [5.92958914 5.56068163 6.02344759 4.79579055 5.86363118 5.81413053\n",
      "  6.09582456 4.99721227 5.06259503 5.59471138 5.65948222 5.91350301]\n",
      " [5.66642669 5.61312811 5.01063529 6.13772705 5.0369526  5.83773045\n",
      "  6.03787092 5.43807931 6.00635316 5.45532112 4.78749174 6.0591232 ]\n",
      " [5.58349631 5.92157842 6.18826412 5.23644196 6.02827852 4.72738782\n",
      "  5.83188248 5.89715387 6.09807428 5.02388052 6.18414889 6.08449941]]\n",
      "\n",
      "Projected Sales (1.1x growth):\n",
      " [[343.46817808 824.90856976 668.37761531 350.95702696 285.95370073\n",
      "  507.37812188 193.68650862 343.46817808 379.16784569 557.98511394\n",
      "  788.52469869 315.5191819 ]\n",
      " [873.64741956 337.86124965 847.21561978 436.15523914 396.18736362\n",
      "  432.33389124 744.26257194 642.59159053 814.78701439 714.21966784\n",
      "  900.15212789 513.19484809]\n",
      " [680.30964698 453.38869055 754.30164845 195.46270621 632.69868209\n",
      "  599.16893397 816.81041576 243.94273403 262.13366262 470.68191095\n",
      "  505.44055613 668.37761531]\n",
      " [509.31636052 480.31441323 247.57135005 855.34060625 254.84304928\n",
      "  614.92695714 766.36458184 396.18736362 740.25037648 403.77315668\n",
      "  193.68650862 784.49132581]\n",
      " [464.91097687 674.34123192 904.23613303 317.37567255 758.32069167\n",
      "  181.2951925  610.98397114 656.46491801 818.8342729  251.2048076\n",
      "  900.15212789 806.69798522]]\n"
     ]
    }
   ],
   "source": [
    "\n",
    "exp_growth = np.exp(sales_data / 100)  \n",
    "print(\"\\nExponential Growth:\\n\", exp_growth)\n",
    "\n",
    "\n",
    "log_sales = np.log(sales_data)\n",
    "print(\"\\nLogarithmic Sales Data:\\n\", log_sales)\n",
    "\n",
    "\n",
    "sales_projection = np.power(sales_data, 1.1)\n",
    "print(\"\\nProjected Sales (1.1x growth):\\n\", sales_projection)\n"
   ]
  },
  {
   "cell_type": "code",
   "execution_count": 12,
   "id": "d2e3b077",
   "metadata": {},
   "outputs": [
    {
     "name": "stdout",
     "output_type": "stream",
     "text": [
      "\n",
      "Mean Sales (Overall): 308.45\n",
      "\n",
      "Variance per Product:\n",
      " [10327.6875      9955.90972222 10481.24305556 12982.75\n",
      " 15516.        ]\n",
      "\n",
      "Month of Lowest Sales per Product: [ 6  1  3 10  5]\n",
      "Month of Highest Sales per Product: [ 1 10  6  3  2]\n",
      "\n",
      "Standard Deviation per Product:\n",
      " [101.62523063  99.77930508 102.37794223 113.94187114 124.56323695]\n"
     ]
    }
   ],
   "source": [
    "\n",
    "mean_sales = np.mean(sales_data)\n",
    "print(\"\\nMean Sales (Overall):\", mean_sales)\n",
    "\n",
    "\n",
    "variance_per_product = np.var(sales_data, axis=1)\n",
    "print(\"\\nVariance per Product:\\n\", variance_per_product)\n",
    "\n",
    "\n",
    "min_months = np.argmin(sales_data, axis=1)\n",
    "max_months = np.argmax(sales_data, axis=1)\n",
    "print(\"\\nMonth of Lowest Sales per Product:\", min_months)\n",
    "print(\"Month of Highest Sales per Product:\", max_months)\n",
    "\n",
    "\n",
    "std_dev_per_product = np.std(sales_data, axis=1)\n",
    "print(\"\\nStandard Deviation per Product:\\n\", std_dev_per_product)\n"
   ]
  }
 ],
 "metadata": {
  "kernelspec": {
   "display_name": "Python 3",
   "language": "python",
   "name": "python3"
  },
  "language_info": {
   "codemirror_mode": {
    "name": "ipython",
    "version": 3
   },
   "file_extension": ".py",
   "mimetype": "text/x-python",
   "name": "python",
   "nbconvert_exporter": "python",
   "pygments_lexer": "ipython3",
   "version": "3.13.5"
  }
 },
 "nbformat": 4,
 "nbformat_minor": 5
}
