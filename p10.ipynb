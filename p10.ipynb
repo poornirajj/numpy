{
 "cells": [
  {
   "cell_type": "code",
   "execution_count": 1,
   "id": "2972ab8d",
   "metadata": {},
   "outputs": [
    {
     "name": "stdout",
     "output_type": "stream",
     "text": [
      "Original 3D Array (2 time points, 3 regions, 4 temperature readings):\n",
      " [[[22 94 60 37]\n",
      "  [40 29 74 42]\n",
      "  [ 8 26 39 95]]\n",
      "\n",
      " [[55 19 47 20]\n",
      "  [37 92 55 43]\n",
      "  [65 85 17 96]]]\n",
      "\n",
      "Transposed 3D Array (3 regions, 2 time points, 4 readings):\n",
      " [[[22 94 60 37]\n",
      "  [55 19 47 20]]\n",
      "\n",
      " [[40 29 74 42]\n",
      "  [37 92 55 43]]\n",
      "\n",
      " [[ 8 26 39 95]\n",
      "  [65 85 17 96]]]\n",
      "\n",
      "Swapped Axes (3 regions, 2 time points, 4 readings):\n",
      " [[[22 94 60 37]\n",
      "  [55 19 47 20]]\n",
      "\n",
      " [[40 29 74 42]\n",
      "  [37 92 55 43]]\n",
      "\n",
      " [[ 8 26 39 95]\n",
      "  [65 85 17 96]]]\n",
      "\n",
      "Data for First Time Point (3 regions, 4 readings):\n",
      " [[22 94 60 37]\n",
      " [40 29 74 42]\n",
      " [ 8 26 39 95]]\n"
     ]
    }
   ],
   "source": [
    "import numpy as np\n",
    "\n",
    "# Step 1: Create a 3D array representing scientific data\n",
    "# Shape: (2, 3, 4) -> 2 time points, 3 regions, 4 temperature readings per region\n",
    "data = np.random.randint(0, 100, (2, 3, 4))\n",
    "print(\"Original 3D Array (2 time points, 3 regions, 4 temperature readings):\\n\", data)\n",
    "\n",
    "# Step 2: Transpose the 3D array (swap axes to change perspective)\n",
    "# Changing to: (regions, time points, readings)\n",
    "transposed_data = np.transpose(data, (1, 0, 2))\n",
    "print(\"\\nTransposed 3D Array (3 regions, 2 time points, 4 readings):\\n\", transposed_data)\n",
    "\n",
    "# Step 3: Swap axes (swap axis 0 and 1: time <-> regions)\n",
    "swapped_data = np.swapaxes(data, 0, 1)\n",
    "print(\"\\nSwapped Axes (3 regions, 2 time points, 4 readings):\\n\", swapped_data)\n",
    "\n",
    "# Step 4: Slice the 3D array (extract data for the first time point)\n",
    "first_time_point_data = data[0, :, :]\n",
    "print(\"\\nData for First Time Point (3 regions, 4 readings):\\n\", first_time_point_data)\n"
   ]
  }
 ],
 "metadata": {
  "kernelspec": {
   "display_name": "Python 3",
   "language": "python",
   "name": "python3"
  },
  "language_info": {
   "codemirror_mode": {
    "name": "ipython",
    "version": 3
   },
   "file_extension": ".py",
   "mimetype": "text/x-python",
   "name": "python",
   "nbconvert_exporter": "python",
   "pygments_lexer": "ipython3",
   "version": "3.13.5"
  }
 },
 "nbformat": 4,
 "nbformat_minor": 5
}
