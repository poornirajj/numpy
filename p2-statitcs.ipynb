{
 "cells": [
  {
   "cell_type": "markdown",
   "id": "d96b58b4",
   "metadata": {},
   "source": [
    "# 1. Install and import NumPy"
   ]
  },
  {
   "cell_type": "code",
   "execution_count": 1,
   "id": "520330da",
   "metadata": {},
   "outputs": [],
   "source": [
    "import numpy as np"
   ]
  },
  {
   "cell_type": "markdown",
   "id": "e9912d6b",
   "metadata": {},
   "source": [
    "# 2. Create a 1D NumPy array with at least 10 numerical values"
   ]
  },
  {
   "cell_type": "code",
   "execution_count": 2,
   "id": "6f218519",
   "metadata": {},
   "outputs": [
    {
     "name": "stdout",
     "output_type": "stream",
     "text": [
      "📈 Dataset:\n",
      " [45 67 89 23 78 56 90 34 76 88]\n"
     ]
    }
   ],
   "source": [
    "data = np.array([45, 67, 89, 23, 78, 56, 90, 34, 76, 88])\n",
    "print(\"📈 Dataset:\\n\", data)"
   ]
  },
  {
   "cell_type": "markdown",
   "id": "7f81267d",
   "metadata": {},
   "source": [
    "# 3. Calculate and display:"
   ]
  },
  {
   "cell_type": "code",
   "execution_count": 3,
   "id": "8e2a4bcc",
   "metadata": {},
   "outputs": [
    {
     "name": "stdout",
     "output_type": "stream",
     "text": [
      "\n",
      "📊 Statistics:\n",
      "Mean: 64.6\n",
      "Median: 71.5\n",
      "Standard Deviation: 22.865694828716663\n",
      "Minimum: 23\n",
      "Maximum: 90\n"
     ]
    }
   ],
   "source": [
    "mean_val = np.mean(data)\n",
    "median_val = np.median(data)\n",
    "std_dev = np.std(data)\n",
    "min_val = np.min(data)\n",
    "max_val = np.max(data)\n",
    "print(\"\\n📊 Statistics:\")\n",
    "print(\"Mean:\", mean_val)\n",
    "print(\"Median:\", median_val)\n",
    "print(\"Standard Deviation:\", std_dev)\n",
    "print(\"Minimum:\", min_val)\n",
    "print(\"Maximum:\", max_val)"
   ]
  },
  {
   "cell_type": "markdown",
   "id": "76898522",
   "metadata": {},
   "source": [
    "# 4. Slice the first five elements and calculate their average"
   ]
  },
  {
   "cell_type": "code",
   "execution_count": 4,
   "id": "d171e3c0",
   "metadata": {},
   "outputs": [],
   "source": [
    "first_five = data[:5]\n",
    "average_first_five = np.mean(first_five)"
   ]
  },
  {
   "cell_type": "code",
   "execution_count": 5,
   "id": "73e95df7",
   "metadata": {},
   "outputs": [
    {
     "name": "stdout",
     "output_type": "stream",
     "text": [
      "\n",
      "✂️ First Five Elements: [45 67 89 23 78]\n",
      "Average of First Five: 60.4\n"
     ]
    }
   ],
   "source": [
    "print(\"\\n✂️ First Five Elements:\", first_five)\n",
    "print(\"Average of First Five:\", average_first_five)"
   ]
  }
 ],
 "metadata": {
  "kernelspec": {
   "display_name": "Python 3",
   "language": "python",
   "name": "python3"
  },
  "language_info": {
   "codemirror_mode": {
    "name": "ipython",
    "version": 3
   },
   "file_extension": ".py",
   "mimetype": "text/x-python",
   "name": "python",
   "nbconvert_exporter": "python",
   "pygments_lexer": "ipython3",
   "version": "3.13.5"
  }
 },
 "nbformat": 4,
 "nbformat_minor": 5
}
