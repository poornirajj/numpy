{
 "cells": [
  {
   "cell_type": "code",
   "execution_count": 1,
   "id": "c0a33434",
   "metadata": {},
   "outputs": [],
   "source": [
    "import numpy as np"
   ]
  },
  {
   "cell_type": "markdown",
   "id": "6dc3e8bf",
   "metadata": {},
   "source": [
    "  # Create a 1D NumPy array with 12 random numbers between 1 and 100"
   ]
  },
  {
   "cell_type": "code",
   "execution_count": 2,
   "id": "b243904a",
   "metadata": {},
   "outputs": [
    {
     "name": "stdout",
     "output_type": "stream",
     "text": [
      "🔢 1D Array:\n",
      " [51 50 73 23 99 66 72 49 93 81 27 97]\n"
     ]
    }
   ],
   "source": [
    "array_1d = np.random.randint(1, 101, size=12)\n",
    "print(\"🔢 1D Array:\\n\", array_1d)"
   ]
  },
  {
   "cell_type": "markdown",
   "id": "404441be",
   "metadata": {},
   "source": [
    "# 3. Reshape the 1D array into a 2D array (4x3 matrix)"
   ]
  },
  {
   "cell_type": "code",
   "execution_count": 3,
   "id": "463e49ae",
   "metadata": {},
   "outputs": [
    {
     "name": "stdout",
     "output_type": "stream",
     "text": [
      "\n",
      "📐 2D Array (4x3 Matrix):\n",
      " [[51 50 73]\n",
      " [23 99 66]\n",
      " [72 49 93]\n",
      " [81 27 97]]\n"
     ]
    }
   ],
   "source": [
    "array_2d = array_1d.reshape(4, 3)\n",
    "print(\"\\n📐 2D Array (4x3 Matrix):\\n\", array_2d)"
   ]
  },
  {
   "cell_type": "markdown",
   "id": "1ead2ebc",
   "metadata": {},
   "source": [
    "# 4. Extract and print:"
   ]
  },
  {
   "cell_type": "code",
   "execution_count": 4,
   "id": "8bf23199",
   "metadata": {},
   "outputs": [
    {
     "name": "stdout",
     "output_type": "stream",
     "text": [
      "\n",
      "➡️ Second Row: [23 99 66]\n"
     ]
    }
   ],
   "source": [
    "second_row = array_2d[1]\n",
    "print(\"\\n➡️ Second Row:\", second_row)"
   ]
  },
  {
   "cell_type": "code",
   "execution_count": 5,
   "id": "8951ab72",
   "metadata": {},
   "outputs": [
    {
     "name": "stdout",
     "output_type": "stream",
     "text": [
      "⬇️ First Column: [51 23 72 81]\n"
     ]
    }
   ],
   "source": [
    "first_column = array_2d[:, 0]\n",
    "print(\"⬇️ First Column:\", first_column)"
   ]
  },
  {
   "cell_type": "code",
   "execution_count": 6,
   "id": "375feeb5",
   "metadata": {},
   "outputs": [
    {
     "name": "stdout",
     "output_type": "stream",
     "text": [
      "🔚 Last Two Elements of Last Row: [27 97]\n"
     ]
    }
   ],
   "source": [
    "last_two_last_row = array_2d[-1, -2:]\n",
    "print(\"🔚 Last Two Elements of Last Row:\", last_two_last_row)"
   ]
  },
  {
   "cell_type": "markdown",
   "id": "03dc0b3b",
   "metadata": {},
   "source": [
    "# 5. Print shape, size, and data type"
   ]
  },
  {
   "cell_type": "code",
   "execution_count": 7,
   "id": "70b96562",
   "metadata": {},
   "outputs": [
    {
     "name": "stdout",
     "output_type": "stream",
     "text": [
      "\n",
      "🧾 Array Info:\n",
      "Shape: (4, 3)\n",
      "Size: 12\n",
      "Data Type: int32\n"
     ]
    }
   ],
   "source": [
    "print(\"\\n🧾 Array Info:\")\n",
    "print(\"Shape:\", array_2d.shape)\n",
    "print(\"Size:\", array_2d.size)\n",
    "print(\"Data Type:\", array_2d.dtype)"
   ]
  }
 ],
 "metadata": {
  "kernelspec": {
   "display_name": "Python 3",
   "language": "python",
   "name": "python3"
  },
  "language_info": {
   "codemirror_mode": {
    "name": "ipython",
    "version": 3
   },
   "file_extension": ".py",
   "mimetype": "text/x-python",
   "name": "python",
   "nbconvert_exporter": "python",
   "pygments_lexer": "ipython3",
   "version": "3.13.5"
  }
 },
 "nbformat": 4,
 "nbformat_minor": 5
}
