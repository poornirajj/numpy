{
 "cells": [
  {
   "cell_type": "code",
   "execution_count": 1,
   "id": "c3bc5926",
   "metadata": {},
   "outputs": [],
   "source": [
    "import numpy as np\n"
   ]
  },
  {
   "cell_type": "code",
   "execution_count": 2,
   "id": "561443b9",
   "metadata": {},
   "outputs": [],
   "source": [
    "# Coefficient matrix A\n",
    "A = np.array([[3, 1], [1, 2]])\n",
    "\n",
    "# Constant matrix b\n",
    "b = np.array([9, 8])\n"
   ]
  },
  {
   "cell_type": "code",
   "execution_count": 3,
   "id": "2f5f48f3",
   "metadata": {},
   "outputs": [
    {
     "name": "stdout",
     "output_type": "stream",
     "text": [
      "Solution to the system of equations (x): [2. 3.]\n"
     ]
    }
   ],
   "source": [
    "# Solve the linear system\n",
    "x = np.linalg.solve(A, b)\n",
    "print(\"Solution to the system of equations (x):\", x)\n"
   ]
  },
  {
   "cell_type": "code",
   "execution_count": 4,
   "id": "c68827d5",
   "metadata": {},
   "outputs": [
    {
     "name": "stdout",
     "output_type": "stream",
     "text": [
      "\n",
      "Matrix Multiplication using np.dot():\n",
      " [[ 6 10]\n",
      " [ 7 10]]\n",
      "\n",
      "Matrix Multiplication using np.matmul():\n",
      " [[ 6 10]\n",
      " [ 7 10]]\n"
     ]
    }
   ],
   "source": [
    "# Define another matrix B\n",
    "B = np.array([[1, 2], [3, 4]])\n",
    "\n",
    "# Matrix multiplication using np.dot()\n",
    "result_dot = np.dot(A, B)\n",
    "print(\"\\nMatrix Multiplication using np.dot():\\n\", result_dot)\n",
    "\n",
    "# Matrix multiplication using np.matmul()\n",
    "result_matmul = np.matmul(A, B)\n",
    "print(\"\\nMatrix Multiplication using np.matmul():\\n\", result_matmul)\n"
   ]
  },
  {
   "cell_type": "code",
   "execution_count": 5,
   "id": "174b8dbb",
   "metadata": {},
   "outputs": [
    {
     "name": "stdout",
     "output_type": "stream",
     "text": [
      "\n",
      "Inverse of Matrix A:\n",
      " [[ 0.4 -0.2]\n",
      " [-0.2  0.6]]\n"
     ]
    }
   ],
   "source": [
    "# Inverse of A\n",
    "A_inv = np.linalg.inv(A)\n",
    "print(\"\\nInverse of Matrix A:\\n\", A_inv)\n"
   ]
  },
  {
   "cell_type": "code",
   "execution_count": 6,
   "id": "5674d6db",
   "metadata": {},
   "outputs": [
    {
     "name": "stdout",
     "output_type": "stream",
     "text": [
      "\n",
      "Determinant of Matrix A: 5.000000000000001\n"
     ]
    }
   ],
   "source": [
    "# Determinant of A\n",
    "A_det = np.linalg.det(A)\n",
    "print(\"\\nDeterminant of Matrix A:\", A_det)\n"
   ]
  },
  {
   "cell_type": "code",
   "execution_count": 7,
   "id": "2f9d1646",
   "metadata": {},
   "outputs": [
    {
     "name": "stdout",
     "output_type": "stream",
     "text": [
      "\n",
      "Eigenvalues of A: [3.61803399 1.38196601]\n",
      "\n",
      "Eigenvectors of A:\n",
      " [[ 0.85065081 -0.52573111]\n",
      " [ 0.52573111  0.85065081]]\n"
     ]
    }
   ],
   "source": [
    "# Eigenvalues and eigenvectors\n",
    "eigenvalues, eigenvectors = np.linalg.eig(A)\n",
    "print(\"\\nEigenvalues of A:\", eigenvalues)\n",
    "print(\"\\nEigenvectors of A:\\n\", eigenvectors)\n"
   ]
  }
 ],
 "metadata": {
  "kernelspec": {
   "display_name": "Python 3",
   "language": "python",
   "name": "python3"
  },
  "language_info": {
   "codemirror_mode": {
    "name": "ipython",
    "version": 3
   },
   "file_extension": ".py",
   "mimetype": "text/x-python",
   "name": "python",
   "nbconvert_exporter": "python",
   "pygments_lexer": "ipython3",
   "version": "3.13.5"
  }
 },
 "nbformat": 4,
 "nbformat_minor": 5
}
