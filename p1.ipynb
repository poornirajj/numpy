{
 "cells": [
  {
   "cell_type": "code",
   "execution_count": 1,
   "id": "8b3c33e2",
   "metadata": {},
   "outputs": [],
   "source": [
    "import numpy as np"
   ]
  },
  {
   "cell_type": "markdown",
   "id": "04ca58e8",
   "metadata": {},
   "source": [
    "# Simulated data (3 cities x 7 days)"
   ]
  },
  {
   "cell_type": "code",
   "execution_count": 2,
   "id": "7bd87259",
   "metadata": {},
   "outputs": [],
   "source": [
    "temperature = np.array([\n",
    "    [32, 34, 31, 29, 28, 30, 33],  # City 1\n",
    "    [35, 36, 34, 33, 32, 31, 30],  # City 2\n",
    "    [27, 28, 29, 31, 30, 32, 33]   # City 3\n",
    "])\n",
    "\n",
    "humidity = np.array([\n",
    "    [60, 55, 58, 62, 65, 63, 59],\n",
    "    [70, 68, 66, 64, 63, 65, 67],\n",
    "    [55, 57, 56, 58, 60, 59, 61]\n",
    "])\n",
    "\n",
    "wind_speed = np.array([\n",
    "    [3.4, 2.1, 3.0, 4.0, 2.9, 3.3, 3.5],\n",
    "    [2.5, 2.7, 2.6, 2.8, 2.9, 3.1, 3.2],\n",
    "    [3.6, 3.4, 3.3, 3.2, 3.1, 3.0, 2.9]\n",
    "])\n"
   ]
  },
  {
   "cell_type": "markdown",
   "id": "af5a9f19",
   "metadata": {},
   "source": [
    "# a. Perceived Temperature = Temperature + Wind Speed"
   ]
  },
  {
   "cell_type": "code",
   "execution_count": 3,
   "id": "c76352cf",
   "metadata": {},
   "outputs": [
    {
     "name": "stdout",
     "output_type": "stream",
     "text": [
      "Perceived Temperature:\n",
      " [[35.4 36.1 34.  33.  30.9 33.3 36.5]\n",
      " [37.5 38.7 36.6 35.8 34.9 34.1 33.2]\n",
      " [30.6 31.4 32.3 34.2 33.1 35.  35.9]]\n"
     ]
    }
   ],
   "source": [
    "perceived_temp = temperature + wind_speed\n",
    "print(\"Perceived Temperature:\\n\", perceived_temp)"
   ]
  },
  {
   "cell_type": "code",
   "execution_count": 4,
   "id": "79a05494",
   "metadata": {},
   "outputs": [
    {
     "name": "stdout",
     "output_type": "stream",
     "text": [
      "Humidity Impact:\n",
      " [[-28 -21 -27 -33 -37 -33 -26]\n",
      " [-35 -32 -32 -31 -31 -34 -37]\n",
      " [-28 -29 -27 -27 -30 -27 -28]]\n"
     ]
    }
   ],
   "source": [
    "humidity_impact = temperature - humidity\n",
    "print(\"Humidity Impact:\\n\", humidity_impact)"
   ]
  },
  {
   "cell_type": "code",
   "execution_count": 5,
   "id": "58ab9f55",
   "metadata": {},
   "outputs": [
    {
     "name": "stdout",
     "output_type": "stream",
     "text": [
      "Temperature Difference from 30°C:\n",
      " [[ 2  4  1 -1 -2  0  3]\n",
      " [ 5  6  4  3  2  1  0]\n",
      " [-3 -2 -1  1  0  2  3]]\n"
     ]
    }
   ],
   "source": [
    "threshold_diff = temperature - 30\n",
    "print(\"Temperature Difference from 30°C:\\n\", threshold_diff)\n"
   ]
  },
  {
   "cell_type": "markdown",
   "id": "1bf45a1b",
   "metadata": {},
   "source": [
    "# ✅ Step 4: Universal Functions (ufunc)"
   ]
  },
  {
   "cell_type": "code",
   "execution_count": 6,
   "id": "fd8b6d61",
   "metadata": {},
   "outputs": [
    {
     "name": "stdout",
     "output_type": "stream",
     "text": [
      "Square Root of Wind Speed:\n",
      " [[1.84390889 1.44913767 1.73205081 2.         1.70293864 1.81659021\n",
      "  1.87082869]\n",
      " [1.58113883 1.64316767 1.61245155 1.67332005 1.70293864 1.76068169\n",
      "  1.78885438]\n",
      " [1.8973666  1.84390889 1.81659021 1.78885438 1.76068169 1.73205081\n",
      "  1.70293864]]\n"
     ]
    }
   ],
   "source": [
    "sqrt_wind_speed = np.sqrt(wind_speed)\n",
    "print(\"Square Root of Wind Speed:\\n\", sqrt_wind_speed)"
   ]
  },
  {
   "cell_type": "code",
   "execution_count": 7,
   "id": "60999967",
   "metadata": {},
   "outputs": [
    {
     "name": "stdout",
     "output_type": "stream",
     "text": [
      "Log10 of Humidity:\n",
      " [[1.77815125 1.74036269 1.76342799 1.79239169 1.81291336 1.79934055\n",
      "  1.77085201]\n",
      " [1.84509804 1.83250891 1.81954394 1.80617997 1.79934055 1.81291336\n",
      "  1.8260748 ]\n",
      " [1.74036269 1.75587486 1.74818803 1.76342799 1.77815125 1.77085201\n",
      "  1.78532984]]\n"
     ]
    }
   ],
   "source": [
    "log_humidity = np.log10(humidity)\n",
    "print(\"Log10 of Humidity:\\n\", log_humidity)\n"
   ]
  },
  {
   "cell_type": "code",
   "execution_count": 8,
   "id": "ff41ed54",
   "metadata": {},
   "outputs": [
    {
     "name": "stdout",
     "output_type": "stream",
     "text": [
      "Seasonal Variation (sin of temperature):\n",
      " [[ 0.55142668  0.52908269 -0.40403765 -0.66363388  0.27090579 -0.98803162\n",
      "   0.99991186]\n",
      " [-0.42818267 -0.99177885  0.52908269  0.99991186  0.55142668 -0.40403765\n",
      "  -0.98803162]\n",
      " [ 0.95637593  0.27090579 -0.66363388 -0.40403765 -0.98803162  0.55142668\n",
      "   0.99991186]]\n"
     ]
    }
   ],
   "source": [
    "seasonal_variation = np.sin(temperature)\n",
    "print(\"Seasonal Variation (sin of temperature):\\n\", seasonal_variation)\n"
   ]
  },
  {
   "cell_type": "markdown",
   "id": "f0dc7afc",
   "metadata": {},
   "source": [
    "# . Mean and Median Temperatures for Each Day"
   ]
  },
  {
   "cell_type": "code",
   "execution_count": 9,
   "id": "98b8ad87",
   "metadata": {},
   "outputs": [
    {
     "name": "stdout",
     "output_type": "stream",
     "text": [
      "Mean Temp per Day:\n",
      " [31.33333333 32.66666667 31.33333333 31.         30.         31.\n",
      " 32.        ]\n",
      "Median Temp per Day:\n",
      " [32. 34. 31. 31. 30. 31. 33.]\n"
     ]
    }
   ],
   "source": [
    "mean_temp_per_day = np.mean(temperature, axis=0)\n",
    "median_temp_per_day = np.median(temperature, axis=0)\n",
    "\n",
    "print(\"Mean Temp per Day:\\n\", mean_temp_per_day)\n",
    "print(\"Median Temp per Day:\\n\", median_temp_per_day)\n"
   ]
  },
  {
   "cell_type": "code",
   "execution_count": 10,
   "id": "1952c467",
   "metadata": {},
   "outputs": [
    {
     "name": "stdout",
     "output_type": "stream",
     "text": [
      "Max Wind Speed: 4.0\n",
      "Location of Max Wind Speed (City, Day): (np.int64(0), np.int64(3))\n"
     ]
    }
   ],
   "source": [
    "max_wind = np.max(wind_speed)\n",
    "max_wind_index = np.unravel_index(np.argmax(wind_speed), wind_speed.shape)\n",
    "\n",
    "print(\"Max Wind Speed:\", max_wind)\n",
    "print(\"Location of Max Wind Speed (City, Day):\", max_wind_index)\n"
   ]
  },
  {
   "cell_type": "code",
   "execution_count": 11,
   "id": "97db7b4b",
   "metadata": {},
   "outputs": [
    {
     "name": "stdout",
     "output_type": "stream",
     "text": [
      "Humidity Variance per City: [9.63265306 4.97959184 4.        ]\n",
      "Humidity Standard Deviation per City: [3.10365157 2.23149991 2.        ]\n"
     ]
    }
   ],
   "source": [
    "humidity_variance = np.var(humidity, axis=1)\n",
    "humidity_std_dev = np.std(humidity, axis=1)\n",
    "\n",
    "print(\"Humidity Variance per City:\", humidity_variance)\n",
    "print(\"Humidity Standard Deviation per City:\", humidity_std_dev)\n"
   ]
  }
 ],
 "metadata": {
  "kernelspec": {
   "display_name": "Python 3",
   "language": "python",
   "name": "python3"
  },
  "language_info": {
   "codemirror_mode": {
    "name": "ipython",
    "version": 3
   },
   "file_extension": ".py",
   "mimetype": "text/x-python",
   "name": "python",
   "nbconvert_exporter": "python",
   "pygments_lexer": "ipython3",
   "version": "3.13.5"
  }
 },
 "nbformat": 4,
 "nbformat_minor": 5
}
