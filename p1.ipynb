{
 "cells": [
  {
   "cell_type": "code",
   "execution_count": 1,
   "id": "737b2a73",
   "metadata": {},
   "outputs": [
    {
     "name": "stdout",
     "output_type": "stream",
     "text": [
      "Original Grades: [85 72 90 58 67 88 95 62 73 50]\n"
     ]
    }
   ],
   "source": [
    "import numpy as np\n",
    "\n",
    "# List of grades for 10 students\n",
    "grades = np.array([85, 72, 90, 58, 67, 88, 95, 62, 73, 50])\n",
    "print(\"Original Grades:\", grades)\n"
   ]
  },
  {
   "cell_type": "code",
   "execution_count": 2,
   "id": "6e50101d",
   "metadata": {},
   "outputs": [
    {
     "name": "stdout",
     "output_type": "stream",
     "text": [
      "Passing Grades: [85 72 90 67 88 95 62 73]\n"
     ]
    }
   ],
   "source": [
    "# A grade of 60 or above is considered a pass\n",
    "pass_mask = grades >= 60\n",
    "passing_grades = grades[pass_mask]\n",
    "print(\"Passing Grades:\", passing_grades)\n"
   ]
  },
  {
   "cell_type": "code",
   "execution_count": 3,
   "id": "0601739a",
   "metadata": {},
   "outputs": [
    {
     "name": "stdout",
     "output_type": "stream",
     "text": [
      "Selected Grades: [90 88 73]\n"
     ]
    }
   ],
   "source": [
    "# Select grades of students at positions 2, 5, and 8\n",
    "student_indices = [2, 5, 8]\n",
    "selected_grades = grades[student_indices]\n",
    "print(\"Selected Grades:\", selected_grades)\n"
   ]
  },
  {
   "cell_type": "code",
   "execution_count": 4,
   "id": "c4a3d3ce",
   "metadata": {},
   "outputs": [
    {
     "name": "stdout",
     "output_type": "stream",
     "text": [
      "Student Results: ['Pass' 'Pass' 'Pass' 'Fail' 'Pass' 'Pass' 'Pass' 'Pass' 'Pass' 'Fail']\n"
     ]
    }
   ],
   "source": [
    "# Label grades as \"Pass\" or \"Fail\"\n",
    "result = np.where(grades >= 60, \"Pass\", \"Fail\")\n",
    "print(\"Student Results:\", result)\n"
   ]
  },
  {
   "cell_type": "code",
   "execution_count": 5,
   "id": "ef9a58a2",
   "metadata": {},
   "outputs": [
    {
     "name": "stdout",
     "output_type": "stream",
     "text": [
      "Any student failed: True\n",
      "Did all students pass? False\n"
     ]
    }
   ],
   "source": [
    "# Check if any student failed and if all passed\n",
    "any_failed = np.any(grades < 60)\n",
    "all_passed = np.all(grades >= 60)\n",
    "print(\"Any student failed:\", any_failed)\n",
    "print(\"Did all students pass?\", all_passed)\n"
   ]
  },
  {
   "cell_type": "code",
   "execution_count": 6,
   "id": "b32be0f1",
   "metadata": {},
   "outputs": [
    {
     "name": "stdout",
     "output_type": "stream",
     "text": [
      "Sorted Grades: [50 58 62 67 72 73 85 88 90 95]\n"
     ]
    }
   ],
   "source": [
    "# Sort grades in ascending order\n",
    "sorted_grades = np.sort(grades)\n",
    "print(\"Sorted Grades:\", sorted_grades)\n"
   ]
  },
  {
   "cell_type": "code",
   "execution_count": 7,
   "id": "c398c7d2",
   "metadata": {},
   "outputs": [
    {
     "name": "stdout",
     "output_type": "stream",
     "text": [
      "Sorted Indices: [9 3 7 4 1 8 0 5 2 6]\n"
     ]
    }
   ],
   "source": [
    "# Indices that would sort the grades array\n",
    "sorted_indices = np.argsort(grades)\n",
    "print(\"Sorted Indices:\", sorted_indices)\n"
   ]
  },
  {
   "cell_type": "code",
   "execution_count": 8,
   "id": "6c745306",
   "metadata": {},
   "outputs": [
    {
     "name": "stdout",
     "output_type": "stream",
     "text": [
      "Unique Grades: [50 58 62 67 72 73 85 88 90 95]\n"
     ]
    }
   ],
   "source": [
    "# Get the unique grades\n",
    "unique_grades = np.unique(grades)\n",
    "print(\"Unique Grades:\", unique_grades)\n"
   ]
  },
  {
   "cell_type": "code",
   "execution_count": null,
   "id": "34d39402",
   "metadata": {},
   "outputs": [],
   "source": []
  }
 ],
 "metadata": {
  "kernelspec": {
   "display_name": "Python 3",
   "language": "python",
   "name": "python3"
  },
  "language_info": {
   "codemirror_mode": {
    "name": "ipython",
    "version": 3
   },
   "file_extension": ".py",
   "mimetype": "text/x-python",
   "name": "python",
   "nbconvert_exporter": "python",
   "pygments_lexer": "ipython3",
   "version": "3.13.5"
  }
 },
 "nbformat": 4,
 "nbformat_minor": 5
}
