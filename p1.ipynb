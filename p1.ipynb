{
 "cells": [
  {
   "cell_type": "markdown",
   "id": "3b77817a",
   "metadata": {},
   "source": [
    "#import numpy"
   ]
  },
  {
   "cell_type": "code",
   "execution_count": 8,
   "id": "1bfd7354",
   "metadata": {},
   "outputs": [
    {
     "name": "stdout",
     "output_type": "stream",
     "text": [
      "Requirement already satisfied: numpy in c:\\users\\ayyappan\\appdata\\local\\programs\\python\\python313\\lib\\site-packages (2.3.2)\n"
     ]
    },
    {
     "name": "stderr",
     "output_type": "stream",
     "text": [
      "\n",
      "[notice] A new release of pip is available: 25.1.1 -> 25.2\n",
      "[notice] To update, run: python.exe -m pip install --upgrade pip\n"
     ]
    }
   ],
   "source": [
    "! pip install numpy"
   ]
  },
  {
   "cell_type": "code",
   "execution_count": 9,
   "id": "4a1c0390",
   "metadata": {},
   "outputs": [],
   "source": [
    "import numpy as np"
   ]
  },
  {
   "cell_type": "markdown",
   "id": "4e2b301b",
   "metadata": {},
   "source": [
    "#  Check NumPy Version"
   ]
  },
  {
   "cell_type": "code",
   "execution_count": 10,
   "id": "ed19c754",
   "metadata": {},
   "outputs": [
    {
     "name": "stdout",
     "output_type": "stream",
     "text": [
      "📌 NumPy Version: 2.3.2\n"
     ]
    }
   ],
   "source": [
    "print(\"📌 NumPy Version:\", np.__version__)"
   ]
  },
  {
   "cell_type": "markdown",
   "id": "2782e009",
   "metadata": {},
   "source": [
    "#  Take student marks as input and create a NumPy array\n"
   ]
  },
  {
   "cell_type": "code",
   "execution_count": 11,
   "id": "cc5c077f",
   "metadata": {},
   "outputs": [],
   "source": [
    "marks = [88, 92, 79, 85, 90, 76, 95, 89]\n",
    "marks_array = np.array(marks, dtype=int) # Convert input to integer NumPy array"
   ]
  },
  {
   "cell_type": "markdown",
   "id": "7fb6527f",
   "metadata": {},
   "source": [
    "# Display the created array\n"
   ]
  },
  {
   "cell_type": "code",
   "execution_count": 12,
   "id": "a480b1b7",
   "metadata": {},
   "outputs": [
    {
     "name": "stdout",
     "output_type": "stream",
     "text": [
      "\n",
      "✅ Student Marks Array: [88 92 79 85 90 76 95 89]\n"
     ]
    }
   ],
   "source": [
    "print(\"\\n✅ Student Marks Array:\", marks_array)"
   ]
  },
  {
   "cell_type": "markdown",
   "id": "336c53f6",
   "metadata": {},
   "source": [
    "#  Display array attributes\n"
   ]
  },
  {
   "cell_type": "code",
   "execution_count": 13,
   "id": "82644f0b",
   "metadata": {},
   "outputs": [
    {
     "name": "stdout",
     "output_type": "stream",
     "text": [
      "\n",
      "📊 Array Attributes:\n",
      "🔹 Dimensions: 1\n",
      "🔹 Shape: (8,)\n",
      "🔹 Size: 8\n",
      "🔹 Data Type: int64\n"
     ]
    }
   ],
   "source": [
    "print(\"\\n📊 Array Attributes:\")\n",
    "print(\"🔹 Dimensions:\", marks_array.ndim)\n",
    "print(\"🔹 Shape:\", marks_array.shape)\n",
    "print(\"🔹 Size:\", marks_array.size)\n",
    "print(\"🔹 Data Type:\", marks_array.dtype)"
   ]
  },
  {
   "cell_type": "markdown",
   "id": "e1c4cf86",
   "metadata": {},
   "source": [
    "# Perform basic analysis\n"
   ]
  },
  {
   "cell_type": "code",
   "execution_count": 14,
   "id": "da36d0e2",
   "metadata": {},
   "outputs": [
    {
     "name": "stdout",
     "output_type": "stream",
     "text": [
      "\n",
      "📈 Marks Analysis:\n",
      "🏆 Highest Mark: 95\n",
      "📉 Lowest Mark: 76\n",
      "📊 Average Mark: 86.75\n",
      "📊 Total Marks: 694\n"
     ]
    }
   ],
   "source": [
    "print(\"\\n📈 Marks Analysis:\")\n",
    "print(\"🏆 Highest Mark:\", np.max(marks_array))\n",
    "print(\"📉 Lowest Mark:\", np.min(marks_array))\n",
    "print(\"📊 Average Mark:\", np.mean(marks_array))\n",
    "print(\"📊 Total Marks:\", np.sum(marks_array))"
   ]
  },
  {
   "cell_type": "markdown",
   "id": "e6d83096",
   "metadata": {},
   "source": [
    "#  Slicing operations\n",
    "\n"
   ]
  },
  {
   "cell_type": "code",
   "execution_count": 15,
   "id": "a4189f8f",
   "metadata": {},
   "outputs": [
    {
     "name": "stdout",
     "output_type": "stream",
     "text": [
      "\n",
      "🔍 Slicing Examples:\n",
      "First 3 students' marks: [88 92 79]\n",
      "Last 2 students' marks: [95 89]\n",
      "Marks of alternate students: [88 79 90 95]\n"
     ]
    }
   ],
   "source": [
    "print(\"\\n🔍 Slicing Examples:\")\n",
    "print(\"First 3 students' marks:\", marks_array[:3])\n",
    "print(\"Last 2 students' marks:\", marks_array[-2:])\n",
    "print(\"Marks of alternate students:\", marks_array[::2])"
   ]
  }
 ],
 "metadata": {
  "kernelspec": {
   "display_name": "Python 3",
   "language": "python",
   "name": "python3"
  },
  "language_info": {
   "codemirror_mode": {
    "name": "ipython",
    "version": 3
   },
   "file_extension": ".py",
   "mimetype": "text/x-python",
   "name": "python",
   "nbconvert_exporter": "python",
   "pygments_lexer": "ipython3",
   "version": "3.13.5"
  }
 },
 "nbformat": 4,
 "nbformat_minor": 5
}
