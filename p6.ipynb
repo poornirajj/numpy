{
 "cells": [
  {
   "cell_type": "code",
   "execution_count": 1,
   "id": "fa2974be",
   "metadata": {},
   "outputs": [
    {
     "name": "stdout",
     "output_type": "stream",
     "text": [
      "Vertical Stack (6x4):\n",
      " [[ 2  3  3  9]\n",
      " [ 6  2  9  1]\n",
      " [ 8  2  4  1]\n",
      " [14 14 12 17]\n",
      " [15 15 11 11]\n",
      " [17 19 19 16]]\n"
     ]
    }
   ],
   "source": [
    "import numpy as np\n",
    "\n",
    "arr1 = np.random.randint(1, 10, (3, 4))\n",
    "arr2 = np.random.randint(10, 20, (3, 4))\n",
    "vstacked = np.vstack((arr1, arr2))\n",
    "print(\"Vertical Stack (6x4):\\n\", vstacked)\n"
   ]
  },
  {
   "cell_type": "code",
   "execution_count": 2,
   "id": "8f0c7486",
   "metadata": {},
   "outputs": [
    {
     "name": "stdout",
     "output_type": "stream",
     "text": [
      "Horizontal Stack (3x8):\n",
      " [[ 9  9  3  9 18 10 12 13]\n",
      " [ 7  6  1  4 14 13 19 17]\n",
      " [ 5  5  8  9 14 10 17 15]]\n"
     ]
    }
   ],
   "source": [
    "arr3 = np.random.randint(1, 10, (3, 4))\n",
    "arr4 = np.random.randint(10, 20, (3, 4))\n",
    "hstacked = np.hstack((arr3, arr4))\n",
    "print(\"Horizontal Stack (3x8):\\n\", hstacked)\n"
   ]
  },
  {
   "cell_type": "code",
   "execution_count": 3,
   "id": "d7caeda7",
   "metadata": {},
   "outputs": [
    {
     "name": "stdout",
     "output_type": "stream",
     "text": [
      "Stacked along depth (3x4x2):\n",
      " [[[ 2 17]\n",
      "  [ 2 16]\n",
      "  [ 4 10]\n",
      "  [ 5 13]]\n",
      "\n",
      " [[ 1 10]\n",
      "  [ 3 15]\n",
      "  [ 7 11]\n",
      "  [ 3 13]]\n",
      "\n",
      " [[ 1 17]\n",
      "  [ 5 19]\n",
      "  [ 8 16]\n",
      "  [ 4 10]]]\n"
     ]
    }
   ],
   "source": [
    "arr5 = np.random.randint(1, 10, (3, 4))\n",
    "arr6 = np.random.randint(10, 20, (3, 4))\n",
    "dstacked = np.dstack((arr5, arr6))\n",
    "print(\"Stacked along depth (3x4x2):\\n\", dstacked)\n"
   ]
  },
  {
   "cell_type": "code",
   "execution_count": 4,
   "id": "b01feb1c",
   "metadata": {},
   "outputs": [
    {
     "name": "stdout",
     "output_type": "stream",
     "text": [
      "Split into two (3x4):\n",
      "Part 1:\n",
      " [[ 0  1  2  3]\n",
      " [ 4  5  6  7]\n",
      " [ 8  9 10 11]]\n",
      "Part 2:\n",
      " [[12 13 14 15]\n",
      " [16 17 18 19]\n",
      " [20 21 22 23]]\n"
     ]
    }
   ],
   "source": [
    "arr7 = np.arange(24).reshape(6, 4)\n",
    "split_equal = np.split(arr7, 2)\n",
    "print(\"Split into two (3x4):\")\n",
    "for i, subarr in enumerate(split_equal):\n",
    "    print(f\"Part {i+1}:\\n\", subarr)\n"
   ]
  },
  {
   "cell_type": "code",
   "execution_count": 5,
   "id": "87a31af3",
   "metadata": {},
   "outputs": [
    {
     "name": "stdout",
     "output_type": "stream",
     "text": [
      "Split into three parts:\n",
      "Part 1 (shape (3, 4)):\n",
      " [[ 0  1  2  3]\n",
      " [ 4  5  6  7]\n",
      " [ 8  9 10 11]]\n",
      "Part 2 (shape (2, 4)):\n",
      " [[12 13 14 15]\n",
      " [16 17 18 19]]\n",
      "Part 3 (shape (2, 4)):\n",
      " [[20 21 22 23]\n",
      " [24 25 26 27]]\n"
     ]
    }
   ],
   "source": [
    "arr8 = np.arange(28).reshape(7, 4)\n",
    "split_three = np.array_split(arr8, 3)\n",
    "print(\"Split into three parts:\")\n",
    "for i, subarr in enumerate(split_three):\n",
    "    print(f\"Part {i+1} (shape {subarr.shape}):\\n\", subarr)\n"
   ]
  },
  {
   "cell_type": "code",
   "execution_count": 6,
   "id": "2d6594c5",
   "metadata": {},
   "outputs": [
    {
     "name": "stdout",
     "output_type": "stream",
     "text": [
      "Original shape: (2, 3, 4)\n",
      "Transposed shape with .T: (4, 3, 2)\n"
     ]
    }
   ],
   "source": [
    "arr9 = np.random.randint(1, 10, (2, 3, 4))\n",
    "transposed_T = arr9.T\n",
    "print(\"Original shape:\", arr9.shape)\n",
    "print(\"Transposed shape with .T:\", transposed_T.shape)\n"
   ]
  },
  {
   "cell_type": "code",
   "execution_count": 7,
   "id": "fdf4278f",
   "metadata": {},
   "outputs": [
    {
     "name": "stdout",
     "output_type": "stream",
     "text": [
      "Transposed shape with np.transpose(): (4, 3, 2)\n"
     ]
    }
   ],
   "source": [
    "arr10 = np.random.randint(1, 10, (2, 3, 4))\n",
    "transposed_axes = np.transpose(arr10, (2, 1, 0))  # (4, 3, 2)\n",
    "print(\"Transposed shape with np.transpose():\", transposed_axes.shape)\n"
   ]
  },
  {
   "cell_type": "code",
   "execution_count": 8,
   "id": "21c34655",
   "metadata": {},
   "outputs": [
    {
     "name": "stdout",
     "output_type": "stream",
     "text": [
      "Shape after swapaxes(0,2): (4, 3, 2)\n"
     ]
    }
   ],
   "source": [
    "arr11 = np.random.randint(1, 10, (2, 3, 4))\n",
    "swapped = np.swapaxes(arr11, 0, 2)  # (4, 3, 2)\n",
    "print(\"Shape after swapaxes(0,2):\", swapped.shape)\n"
   ]
  },
  {
   "cell_type": "code",
   "execution_count": 9,
   "id": "4ea7e4eb",
   "metadata": {},
   "outputs": [
    {
     "name": "stdout",
     "output_type": "stream",
     "text": [
      "Sliced 2D array at index 2:\n",
      " [[3 5 3 4]\n",
      " [8 9 3 7]\n",
      " [2 3 6 8]]\n"
     ]
    }
   ],
   "source": [
    "arr12 = np.random.randint(1, 10, (5, 3, 4))\n",
    "slice_2d = arr12[2]  # Get the 3rd element (index 2)\n",
    "print(\"Sliced 2D array at index 2:\\n\", slice_2d)\n"
   ]
  },
  {
   "cell_type": "code",
   "execution_count": 10,
   "id": "44f87020",
   "metadata": {},
   "outputs": [
    {
     "name": "stdout",
     "output_type": "stream",
     "text": [
      "Horizontally stacked arrays (3x6):\n",
      " [[ 8  5  8  6 14 10]\n",
      " [ 2  2  6  7 10 12]\n",
      " [ 9  8  8  2 15 17]]\n"
     ]
    }
   ],
   "source": [
    "arr13 = np.random.randint(1, 10, (3, 4))\n",
    "arr14 = np.random.randint(10, 20, (3, 2))\n",
    "\n",
    "# Valid shapes for hstack: same number of rows\n",
    "try:\n",
    "    hstack_diff = np.hstack((arr13, arr14))\n",
    "    print(\"Horizontally stacked arrays (3x6):\\n\", hstack_diff)\n",
    "except ValueError as e:\n",
    "    print(\"Error:\", e)\n"
   ]
  },
  {
   "cell_type": "code",
   "execution_count": 11,
   "id": "3c3e63b6",
   "metadata": {},
   "outputs": [
    {
     "name": "stdout",
     "output_type": "stream",
     "text": [
      "Stacked 1D arrays (3x4):\n",
      " [[ 1  2  3  4]\n",
      " [ 5  6  7  8]\n",
      " [ 9 10 11 12]]\n"
     ]
    }
   ],
   "source": [
    "a = np.array([1, 2, 3, 4])\n",
    "b = np.array([5, 6, 7, 8])\n",
    "c = np.array([9, 10, 11, 12])\n",
    "vstack_1d = np.vstack((a, b, c))\n",
    "print(\"Stacked 1D arrays (3x4):\\n\", vstack_1d)\n"
   ]
  },
  {
   "cell_type": "code",
   "execution_count": 12,
   "id": "ef13dbc3",
   "metadata": {},
   "outputs": [
    {
     "name": "stdout",
     "output_type": "stream",
     "text": [
      "Horizontally stacked (3x6):\n",
      " [[ 2  8  7 13 16 16]\n",
      " [ 3  4  1 15 17 14]\n",
      " [ 5  8  6 12 17 18]]\n"
     ]
    }
   ],
   "source": [
    "arr15 = np.random.randint(1, 10, (3, 3))\n",
    "arr16 = np.random.randint(10, 20, (3, 3))\n",
    "hstack_2d = np.hstack((arr15, arr16))\n",
    "print(\"Horizontally stacked (3x6):\\n\", hstack_2d)\n"
   ]
  },
  {
   "cell_type": "code",
   "execution_count": 13,
   "id": "06eab2f2",
   "metadata": {},
   "outputs": [
    {
     "name": "stdout",
     "output_type": "stream",
     "text": [
      "1D array split into 4 parts:\n",
      "Part 1: [0 1 2]\n",
      "Part 2: [3 4 5]\n",
      "Part 3: [6 7 8]\n",
      "Part 4: [ 9 10 11]\n"
     ]
    }
   ],
   "source": [
    "arr17 = np.arange(12)\n",
    "split_parts = np.split(arr17, 4)\n",
    "print(\"1D array split into 4 parts:\")\n",
    "for i, part in enumerate(split_parts):\n",
    "    print(f\"Part {i+1}:\", part)\n"
   ]
  }
 ],
 "metadata": {
  "kernelspec": {
   "display_name": "Python 3",
   "language": "python",
   "name": "python3"
  },
  "language_info": {
   "codemirror_mode": {
    "name": "ipython",
    "version": 3
   },
   "file_extension": ".py",
   "mimetype": "text/x-python",
   "name": "python",
   "nbconvert_exporter": "python",
   "pygments_lexer": "ipython3",
   "version": "3.13.5"
  }
 },
 "nbformat": 4,
 "nbformat_minor": 5
}
