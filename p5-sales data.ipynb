{
 "cells": [
  {
   "cell_type": "code",
   "execution_count": 1,
   "id": "6fc7422b",
   "metadata": {},
   "outputs": [],
   "source": [
    "import numpy as np"
   ]
  },
  {
   "cell_type": "markdown",
   "id": "7953f513",
   "metadata": {},
   "source": [
    "# 1. Create a 3x7 array of ones (3 products, 7 days)"
   ]
  },
  {
   "cell_type": "code",
   "execution_count": 2,
   "id": "6332b83b",
   "metadata": {},
   "outputs": [
    {
     "name": "stdout",
     "output_type": "stream",
     "text": [
      "1️⃣ Initial Sales Data (All 1s):\n",
      " [[1 1 1 1 1 1 1]\n",
      " [1 1 1 1 1 1 1]\n",
      " [1 1 1 1 1 1 1]]\n"
     ]
    }
   ],
   "source": [
    "sales_data = np.ones((3, 7), dtype=int)\n",
    "print(\"1️⃣ Initial Sales Data (All 1s):\\n\", sales_data)"
   ]
  },
  {
   "cell_type": "markdown",
   "id": "96600751",
   "metadata": {},
   "source": [
    "# 2. Modify with realistic random sales data (10 to 50)"
   ]
  },
  {
   "cell_type": "code",
   "execution_count": 3,
   "id": "738f56c3",
   "metadata": {},
   "outputs": [
    {
     "name": "stdout",
     "output_type": "stream",
     "text": [
      "\n",
      "2️⃣ Random Sales Data (10 to 50):\n",
      " [[27 46 27 44 32 49 34]\n",
      " [20 21 33 47 21 45 39]\n",
      " [24 35 17 48 36 45 33]]\n"
     ]
    }
   ],
   "source": [
    "sales_data = np.random.randint(10, 51, size=(3, 7))\n",
    "print(\"\\n2️⃣ Random Sales Data (10 to 50):\\n\", sales_data)\n"
   ]
  },
  {
   "cell_type": "markdown",
   "id": "7a25ddec",
   "metadata": {},
   "source": [
    "# 3. Generate days of the week (1 to 7) using np.arange and reshape to 3x7 (for demonstration)"
   ]
  },
  {
   "cell_type": "code",
   "execution_count": 4,
   "id": "27c98f38",
   "metadata": {},
   "outputs": [
    {
     "name": "stdout",
     "output_type": "stream",
     "text": [
      "\n",
      "3️⃣ Days of the Week (Broadcasted for 3 products):\n",
      " [[1 2 3 4 5 6 7]\n",
      " [1 2 3 4 5 6 7]\n",
      " [1 2 3 4 5 6 7]]\n"
     ]
    }
   ],
   "source": [
    "days_array = np.tile(np.arange(1, 8), (3, 1))\n",
    "print(\"\\n3️⃣ Days of the Week (Broadcasted for 3 products):\\n\", days_array)"
   ]
  },
  {
   "cell_type": "markdown",
   "id": "597e0c74",
   "metadata": {},
   "source": [
    "# 4. Flatten the sales data using .ravel() and .flatten()"
   ]
  },
  {
   "cell_type": "code",
   "execution_count": 5,
   "id": "6432a91c",
   "metadata": {},
   "outputs": [
    {
     "name": "stdout",
     "output_type": "stream",
     "text": [
      "\n",
      "4️⃣ Flattened Data Comparison:\n",
      "Using ravel(): [27 46 27 44 32 49 34 20 21 33 47 21 45 39 24 35 17 48 36 45 33]\n",
      "Using flatten(): [27 46 27 44 32 49 34 20 21 33 47 21 45 39 24 35 17 48 36 45 33]\n"
     ]
    }
   ],
   "source": [
    "ravelled = sales_data.ravel()\n",
    "flattened = sales_data.flatten()\n",
    "print(\"\\n4️⃣ Flattened Data Comparison:\")\n",
    "print(\"Using ravel():\", ravelled)\n",
    "print(\"Using flatten():\", flattened)"
   ]
  },
  {
   "cell_type": "markdown",
   "id": "7f405adf",
   "metadata": {},
   "source": [
    "# 5. Clone sales data and simulate boost in sales (e.g., +10 units during discount)"
   ]
  },
  {
   "cell_type": "code",
   "execution_count": 6,
   "id": "276dd7e3",
   "metadata": {},
   "outputs": [
    {
     "name": "stdout",
     "output_type": "stream",
     "text": [
      "\n",
      "5️⃣ Boosted Sales After Discount (+10 units):\n",
      " [[37 56 37 54 42 59 44]\n",
      " [30 31 43 57 31 55 49]\n",
      " [34 45 27 58 46 55 43]]\n"
     ]
    }
   ],
   "source": [
    "boosted_sales = sales_data.copy()\n",
    "boosted_sales += 10\n",
    "boosted_sales = np.clip(boosted_sales, 0, 100)  # Ensure values stay within logical range\n",
    "print(\"\\n5️⃣ Boosted Sales After Discount (+10 units):\\n\", boosted_sales)"
   ]
  },
  {
   "cell_type": "markdown",
   "id": "d679bbf1",
   "metadata": {},
   "source": [
    "# 6. Slice to extract sales data for first 3 days (columns 0 to 2)"
   ]
  },
  {
   "cell_type": "code",
   "execution_count": 7,
   "id": "7d2d77a1",
   "metadata": {},
   "outputs": [
    {
     "name": "stdout",
     "output_type": "stream",
     "text": [
      "\n",
      "6️⃣ Sales Data for First 3 Days (All Products):\n",
      " [[27 46 27]\n",
      " [20 21 33]\n",
      " [24 35 17]]\n"
     ]
    }
   ],
   "source": [
    "first_3_days_sales = sales_data[:, :3]\n",
    "print(\"\\n6️⃣ Sales Data for First 3 Days (All Products):\\n\", first_3_days_sales)"
   ]
  }
 ],
 "metadata": {
  "kernelspec": {
   "display_name": "Python 3",
   "language": "python",
   "name": "python3"
  },
  "language_info": {
   "codemirror_mode": {
    "name": "ipython",
    "version": 3
   },
   "file_extension": ".py",
   "mimetype": "text/x-python",
   "name": "python",
   "nbconvert_exporter": "python",
   "pygments_lexer": "ipython3",
   "version": "3.13.5"
  }
 },
 "nbformat": 4,
 "nbformat_minor": 5
}
