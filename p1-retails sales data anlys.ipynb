{
 "cells": [
  {
   "cell_type": "code",
   "execution_count": 1,
   "id": "103ec0f2",
   "metadata": {},
   "outputs": [],
   "source": [
    "import numpy as np\n"
   ]
  },
  {
   "cell_type": "code",
   "execution_count": 2,
   "id": "617b9edf",
   "metadata": {},
   "outputs": [
    {
     "name": "stdout",
     "output_type": "stream",
     "text": [
      "1 (4,) 4 int64 8\n"
     ]
    }
   ],
   "source": [
    "# Creating arrays\n",
    "product_ids = np.array([101, 102, 103, 104])\n",
    "quantities_sold = np.array([50, 30, 100, 80])\n",
    "unit_prices = np.array([250, 150, 500, 300])\n",
    "\n",
    "# Checking array attributes\n",
    "print(product_ids.ndim, product_ids.shape, product_ids.size, product_ids.dtype, product_ids.itemsize)\n"
   ]
  },
  {
   "cell_type": "code",
   "execution_count": 3,
   "id": "6f17359a",
   "metadata": {},
   "outputs": [
    {
     "name": "stdout",
     "output_type": "stream",
     "text": [
      "List time: 0.00011610984802246094\n",
      "NumPy time: 0.0005688667297363281\n"
     ]
    }
   ],
   "source": [
    "import time\n",
    "\n",
    "# List-based total sales\n",
    "start = time.time()\n",
    "total_sales_list = [quantities_sold[i] * unit_prices[i] for i in range(len(product_ids))]\n",
    "end = time.time()\n",
    "print(\"List time:\", end - start)\n",
    "\n",
    "# NumPy-based\n",
    "start = time.time()\n",
    "total_sales_np = np.multiply(quantities_sold, unit_prices)\n",
    "end = time.time()\n",
    "print(\"NumPy time:\", end - start)\n"
   ]
  },
  {
   "cell_type": "code",
   "execution_count": 4,
   "id": "2e6ee859",
   "metadata": {},
   "outputs": [],
   "source": [
    "daily_sales = np.zeros(7)  # 7-day week\n",
    "stock_limits = np.ones(4) * 100  # 100 units max per product\n",
    "\n",
    "product_ids = np.arange(1001, 1006)\n",
    "discounts = np.random.randint(5, 30, size=5)\n",
    "\n",
    "monthly_sales = np.random.randint(1000, 5000, size=(30,))\n",
    "weekly_sales = monthly_sales.reshape(5, 6)\n",
    "\n",
    "discounts_copy = discounts.copy()\n",
    "discounts_view = discounts.view()\n"
   ]
  },
  {
   "cell_type": "code",
   "execution_count": 5,
   "id": "bcf1160d",
   "metadata": {},
   "outputs": [
    {
     "name": "stdout",
     "output_type": "stream",
     "text": [
      "91000 22750.0 295562500.0 17191.931246954195\n"
     ]
    }
   ],
   "source": [
    "# Total sales\n",
    "total_sales = np.multiply(quantities_sold, unit_prices)\n",
    "\n",
    "# Broadcasting\n",
    "unit_prices = unit_prices * 1.05  # Increase prices by 5%\n",
    "\n",
    "# Normalize high sales\n",
    "normalized_sales = np.log1p(total_sales)\n",
    "\n",
    "# Simulate demand (seasonal)\n",
    "days = np.arange(30)\n",
    "demand_curve = 1000 + 300 * np.sin(days / 5)\n",
    "\n",
    "# Aggregations\n",
    "print(np.sum(total_sales), np.mean(total_sales), np.var(total_sales), np.std(total_sales))\n"
   ]
  },
  {
   "cell_type": "code",
   "execution_count": 6,
   "id": "0a14b51a",
   "metadata": {},
   "outputs": [],
   "source": [
    "# Top 5 products\n",
    "top_indices = np.argsort(total_sales)[-5:]\n",
    "top_products = product_ids[top_indices]\n",
    "\n",
    "# Products with high sales\n",
    "high_sales_mask = total_sales > 50000\n",
    "free_shipping = np.where(total_sales > 50000, \"Free\", \"No Free\")\n",
    "\n",
    "# Unique products\n",
    "unique_ids = np.unique(product_ids)\n"
   ]
  },
  {
   "cell_type": "code",
   "execution_count": 7,
   "id": "61358b64",
   "metadata": {},
   "outputs": [],
   "source": [
    "store1 = np.random.randint(1000, 5000, size=(4, 7))\n",
    "store2 = np.random.randint(1000, 5000, size=(4, 7))\n",
    "\n",
    "combined = np.vstack((store1, store2))\n",
    "transposed = combined.T\n",
    "\n",
    "weeks = np.split(monthly_sales, 5)\n"
   ]
  },
  {
   "cell_type": "code",
   "execution_count": 8,
   "id": "173b90f3",
   "metadata": {},
   "outputs": [],
   "source": [
    "sales_matrix = np.array([[1000, 2000], [1500, 2500]])\n",
    "cross_store = np.dot(sales_matrix, sales_matrix.T)\n",
    "\n",
    "# Budget equation: x + y = 10000, 2x + 3y = 25000\n",
    "A = np.array([[1, 1], [2, 3]])\n",
    "B = np.array([10000, 25000])\n",
    "solution = np.linalg.solve(A, B)\n",
    "\n",
    "percentiles = np.percentile(total_sales, 75)\n",
    "hist_data = np.histogram(total_sales, bins=5)\n"
   ]
  },
  {
   "cell_type": "code",
   "execution_count": 9,
   "id": "ec511b74",
   "metadata": {},
   "outputs": [
    {
     "ename": "FileNotFoundError",
     "evalue": "sales.csv not found.",
     "output_type": "error",
     "traceback": [
      "\u001b[31m---------------------------------------------------------------------------\u001b[39m",
      "\u001b[31mFileNotFoundError\u001b[39m                         Traceback (most recent call last)",
      "\u001b[36mCell\u001b[39m\u001b[36m \u001b[39m\u001b[32mIn[9]\u001b[39m\u001b[32m, line 2\u001b[39m\n\u001b[32m      1\u001b[39m \u001b[38;5;66;03m# Assuming a CSV with sales data\u001b[39;00m\n\u001b[32m----> \u001b[39m\u001b[32m2\u001b[39m sales_data = \u001b[43mnp\u001b[49m\u001b[43m.\u001b[49m\u001b[43mgenfromtxt\u001b[49m\u001b[43m(\u001b[49m\u001b[33;43m\"\u001b[39;49m\u001b[33;43msales.csv\u001b[39;49m\u001b[33;43m\"\u001b[39;49m\u001b[43m,\u001b[49m\u001b[43m \u001b[49m\u001b[43mdelimiter\u001b[49m\u001b[43m=\u001b[49m\u001b[33;43m\"\u001b[39;49m\u001b[33;43m,\u001b[39;49m\u001b[33;43m\"\u001b[39;49m\u001b[43m,\u001b[49m\u001b[43m \u001b[49m\u001b[43mskip_header\u001b[49m\u001b[43m=\u001b[49m\u001b[32;43m1\u001b[39;49m\u001b[43m)\u001b[49m\n\u001b[32m      4\u001b[39m \u001b[38;5;66;03m# Handle missing\u001b[39;00m\n\u001b[32m      5\u001b[39m cleaned_sales = np.nanmean(sales_data, axis=\u001b[32m0\u001b[39m)\n",
      "\u001b[36mFile \u001b[39m\u001b[32mc:\\Users\\Ayyappan\\AppData\\Local\\Programs\\Python\\Python313\\Lib\\site-packages\\numpy\\lib\\_npyio_impl.py:1991\u001b[39m, in \u001b[36mgenfromtxt\u001b[39m\u001b[34m(fname, dtype, comments, delimiter, skip_header, skip_footer, converters, missing_values, filling_values, usecols, names, excludelist, deletechars, replace_space, autostrip, case_sensitive, defaultfmt, unpack, usemask, loose, invalid_raise, max_rows, encoding, ndmin, like)\u001b[39m\n\u001b[32m   1989\u001b[39m     fname = os.fspath(fname)\n\u001b[32m   1990\u001b[39m \u001b[38;5;28;01mif\u001b[39;00m \u001b[38;5;28misinstance\u001b[39m(fname, \u001b[38;5;28mstr\u001b[39m):\n\u001b[32m-> \u001b[39m\u001b[32m1991\u001b[39m     fid = \u001b[43mnp\u001b[49m\u001b[43m.\u001b[49m\u001b[43mlib\u001b[49m\u001b[43m.\u001b[49m\u001b[43m_datasource\u001b[49m\u001b[43m.\u001b[49m\u001b[43mopen\u001b[49m\u001b[43m(\u001b[49m\u001b[43mfname\u001b[49m\u001b[43m,\u001b[49m\u001b[43m \u001b[49m\u001b[33;43m'\u001b[39;49m\u001b[33;43mrt\u001b[39;49m\u001b[33;43m'\u001b[39;49m\u001b[43m,\u001b[49m\u001b[43m \u001b[49m\u001b[43mencoding\u001b[49m\u001b[43m=\u001b[49m\u001b[43mencoding\u001b[49m\u001b[43m)\u001b[49m\n\u001b[32m   1992\u001b[39m     fid_ctx = contextlib.closing(fid)\n\u001b[32m   1993\u001b[39m \u001b[38;5;28;01melse\u001b[39;00m:\n",
      "\u001b[36mFile \u001b[39m\u001b[32mc:\\Users\\Ayyappan\\AppData\\Local\\Programs\\Python\\Python313\\Lib\\site-packages\\numpy\\lib\\_datasource.py:192\u001b[39m, in \u001b[36mopen\u001b[39m\u001b[34m(path, mode, destpath, encoding, newline)\u001b[39m\n\u001b[32m    155\u001b[39m \u001b[38;5;250m\u001b[39m\u001b[33;03m\"\"\"\u001b[39;00m\n\u001b[32m    156\u001b[39m \u001b[33;03mOpen `path` with `mode` and return the file object.\u001b[39;00m\n\u001b[32m    157\u001b[39m \n\u001b[32m   (...)\u001b[39m\u001b[32m    188\u001b[39m \n\u001b[32m    189\u001b[39m \u001b[33;03m\"\"\"\u001b[39;00m\n\u001b[32m    191\u001b[39m ds = DataSource(destpath)\n\u001b[32m--> \u001b[39m\u001b[32m192\u001b[39m \u001b[38;5;28;01mreturn\u001b[39;00m \u001b[43mds\u001b[49m\u001b[43m.\u001b[49m\u001b[43mopen\u001b[49m\u001b[43m(\u001b[49m\u001b[43mpath\u001b[49m\u001b[43m,\u001b[49m\u001b[43m \u001b[49m\u001b[43mmode\u001b[49m\u001b[43m,\u001b[49m\u001b[43m \u001b[49m\u001b[43mencoding\u001b[49m\u001b[43m=\u001b[49m\u001b[43mencoding\u001b[49m\u001b[43m,\u001b[49m\u001b[43m \u001b[49m\u001b[43mnewline\u001b[49m\u001b[43m=\u001b[49m\u001b[43mnewline\u001b[49m\u001b[43m)\u001b[49m\n",
      "\u001b[36mFile \u001b[39m\u001b[32mc:\\Users\\Ayyappan\\AppData\\Local\\Programs\\Python\\Python313\\Lib\\site-packages\\numpy\\lib\\_datasource.py:529\u001b[39m, in \u001b[36mDataSource.open\u001b[39m\u001b[34m(self, path, mode, encoding, newline)\u001b[39m\n\u001b[32m    526\u001b[39m     \u001b[38;5;28;01mreturn\u001b[39;00m _file_openers[ext](found, mode=mode,\n\u001b[32m    527\u001b[39m                               encoding=encoding, newline=newline)\n\u001b[32m    528\u001b[39m \u001b[38;5;28;01melse\u001b[39;00m:\n\u001b[32m--> \u001b[39m\u001b[32m529\u001b[39m     \u001b[38;5;28;01mraise\u001b[39;00m \u001b[38;5;167;01mFileNotFoundError\u001b[39;00m(\u001b[33mf\u001b[39m\u001b[33m\"\u001b[39m\u001b[38;5;132;01m{\u001b[39;00mpath\u001b[38;5;132;01m}\u001b[39;00m\u001b[33m not found.\u001b[39m\u001b[33m\"\u001b[39m)\n",
      "\u001b[31mFileNotFoundError\u001b[39m: sales.csv not found."
     ]
    }
   ],
   "source": [
    "# Assuming a CSV with sales data\n",
    "sales_data = np.genfromtxt(\"sales.csv\", delimiter=\",\", skip_header=1)\n",
    "\n",
    "# Handle missing\n",
    "cleaned_sales = np.nanmean(sales_data, axis=0)\n"
   ]
  }
 ],
 "metadata": {
  "kernelspec": {
   "display_name": "Python 3",
   "language": "python",
   "name": "python3"
  },
  "language_info": {
   "codemirror_mode": {
    "name": "ipython",
    "version": 3
   },
   "file_extension": ".py",
   "mimetype": "text/x-python",
   "name": "python",
   "nbconvert_exporter": "python",
   "pygments_lexer": "ipython3",
   "version": "3.13.5"
  }
 },
 "nbformat": 4,
 "nbformat_minor": 5
}
