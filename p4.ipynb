{
 "cells": [
  {
   "cell_type": "code",
   "execution_count": 1,
   "id": "38350ea9",
   "metadata": {},
   "outputs": [
    {
     "name": "stdout",
     "output_type": "stream",
     "text": [
      "Temperatures: [24.64  4.85 20.05 26.4  17.18 22.08  1.35 27.88 37.11 17.66  5.65 24.72\n",
      " 39.43 -4.39  8.35 27.61 26.08 29.82 32.94  3.37  4.43  1.6  20.64 -1.68\n",
      " 23.38 -0.47 26.11 -1.02 20.46  8.59]\n",
      "\n",
      "Frosty Days (<0°C): [-4.39 -1.68 -0.47 -1.02]\n",
      "\n",
      "Categories: ['Moderate' 'Cold' 'Moderate' 'Hot' 'Moderate' 'Moderate' 'Cold' 'Hot'\n",
      " 'Hot' 'Moderate' 'Cold' 'Moderate' 'Hot' 'Cold' 'Cold' 'Hot' 'Hot' 'Hot'\n",
      " 'Hot' 'Cold' 'Cold' 'Cold' 'Moderate' 'Cold' 'Moderate' 'Cold' 'Hot'\n",
      " 'Cold' 'Moderate' 'Cold']\n",
      "\n",
      "Highest Temp: 39.43°C at index 12\n",
      "Lowest Temp: -4.39°C at index 13\n",
      "\n",
      "Sorted Temperatures: [-4.39 -1.68 -1.02 -0.47  1.35  1.6   3.37  4.43  4.85  5.65  8.35  8.59\n",
      " 17.18 17.66 20.05 20.46 20.64 22.08 23.38 24.64 24.72 26.08 26.11 26.4\n",
      " 27.61 27.88 29.82 32.94 37.11 39.43]\n",
      "\n",
      "Any Day Above 35°C: True\n",
      "\n",
      "Week 1 Temperatures: [24.64  4.85 20.05 26.4  17.18 22.08  1.35]\n",
      "\n",
      "Index to insert 15°C in sorted array: 12\n",
      "\n",
      "Unique Temperatures: [-4.39 -1.68 -1.02 -0.47  1.35  1.6   3.37  4.43  4.85  5.65  8.35  8.59\n",
      " 17.18 17.66 20.05 20.46 20.64 22.08 23.38 24.64 24.72 26.08 26.11 26.4\n",
      " 27.61 27.88 29.82 32.94 37.11 39.43]\n",
      "Number of Unique Temperatures: 30\n"
     ]
    }
   ],
   "source": [
    "import numpy as np\n",
    "\n",
    "# 1. Create a 1D NumPy array of 30 random float values between -5 and 40 (daily temperatures in Celsius)\n",
    "temperatures = np.random.uniform(-5, 40, 30).round(2)  # round for easier readability\n",
    "\n",
    "# 2. Filter out all temperatures below 0°C (frosty days)\n",
    "frosty_days = temperatures[temperatures < 0]\n",
    "\n",
    "# 3. Categorize temperatures using np.where()\n",
    "categories = np.where(\n",
    "    temperatures < 10, \"Cold\",\n",
    "    np.where(temperatures <= 25, \"Moderate\", \"Hot\")\n",
    ")\n",
    "\n",
    "# 4. Find highest and lowest temperatures using np.argmax() and np.argmin()\n",
    "max_index = np.argmax(temperatures)\n",
    "min_index = np.argmin(temperatures)\n",
    "max_temp = temperatures[max_index]\n",
    "min_temp = temperatures[min_index]\n",
    "\n",
    "# 5. Sort the temperature array in ascending order\n",
    "sorted_temperatures = np.sort(temperatures)\n",
    "\n",
    "# 6. Check if any day had a temperature above 35°C\n",
    "hot_day_above_35 = np.any(temperatures > 35)\n",
    "\n",
    "# 7. Select the first 7 days (week 1) using fancy indexing\n",
    "week1_temps = temperatures[:7]\n",
    "\n",
    "# 8. Find where a temperature of 15°C would fit in the sorted array\n",
    "insert_pos_15 = np.searchsorted(sorted_temperatures, 15)\n",
    "\n",
    "# 9. Find unique temperature values and count them\n",
    "unique_temps = np.unique(temperatures)\n",
    "num_unique_temps = len(unique_temps)\n",
    "\n",
    "# --- OUTPUT (for illustration only) ---\n",
    "print(\"Temperatures:\", temperatures)\n",
    "print(\"\\nFrosty Days (<0°C):\", frosty_days)\n",
    "print(\"\\nCategories:\", categories)\n",
    "print(f\"\\nHighest Temp: {max_temp}°C at index {max_index}\")\n",
    "print(f\"Lowest Temp: {min_temp}°C at index {min_index}\")\n",
    "print(\"\\nSorted Temperatures:\", sorted_temperatures)\n",
    "print(\"\\nAny Day Above 35°C:\", hot_day_above_35)\n",
    "print(\"\\nWeek 1 Temperatures:\", week1_temps)\n",
    "print(\"\\nIndex to insert 15°C in sorted array:\", insert_pos_15)\n",
    "print(\"\\nUnique Temperatures:\", unique_temps)\n",
    "print(\"Number of Unique Temperatures:\", num_unique_temps)\n"
   ]
  }
 ],
 "metadata": {
  "kernelspec": {
   "display_name": "Python 3",
   "language": "python",
   "name": "python3"
  },
  "language_info": {
   "codemirror_mode": {
    "name": "ipython",
    "version": 3
   },
   "file_extension": ".py",
   "mimetype": "text/x-python",
   "name": "python",
   "nbconvert_exporter": "python",
   "pygments_lexer": "ipython3",
   "version": "3.13.5"
  }
 },
 "nbformat": 4,
 "nbformat_minor": 5
}
