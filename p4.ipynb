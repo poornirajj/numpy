{
 "cells": [
  {
   "cell_type": "code",
   "execution_count": 1,
   "id": "ffcc2561",
   "metadata": {},
   "outputs": [
    {
     "name": "stdout",
     "output_type": "stream",
     "text": [
      "Coefficient Matrix A:\n",
      " [[8 6 2]\n",
      " [6 1 9]\n",
      " [9 9 4]]\n",
      "Constant Vector b:\n",
      " [2 3 1]\n",
      "\n",
      "Solution Vector x:\n",
      " [ 0.65217391 -0.52173913 -0.04347826]\n",
      "\n",
      "Verification (A · x):\n",
      " [2. 3. 1.]\n",
      "Does A · x ≈ b? True\n"
     ]
    }
   ],
   "source": [
    "import numpy as np\n",
    "\n",
    "# Step 1: Generate random 3x3 coefficient matrix A and 3x1 constant vector b\n",
    "A = np.random.randint(1, 10, size=(3, 3))\n",
    "b = np.random.randint(1, 10, size=(3,))\n",
    "\n",
    "print(\"Coefficient Matrix A:\\n\", A)\n",
    "print(\"Constant Vector b:\\n\", b)\n",
    "\n",
    "# Step 2: Solve the equation A * x = b\n",
    "x = np.linalg.solve(A, b)\n",
    "\n",
    "print(\"\\nSolution Vector x:\\n\", x)\n",
    "\n",
    "# Step 3: Verify the result by checking if A @ x ≈ b\n",
    "b_calculated = np.dot(A, x)  # or A @ x\n",
    "\n",
    "print(\"\\nVerification (A · x):\\n\", b_calculated)\n",
    "print(\"Does A · x ≈ b?\", np.allclose(b, b_calculated))  # Should return True\n"
   ]
  }
 ],
 "metadata": {
  "kernelspec": {
   "display_name": "Python 3",
   "language": "python",
   "name": "python3"
  },
  "language_info": {
   "codemirror_mode": {
    "name": "ipython",
    "version": 3
   },
   "file_extension": ".py",
   "mimetype": "text/x-python",
   "name": "python",
   "nbconvert_exporter": "python",
   "pygments_lexer": "ipython3",
   "version": "3.13.5"
  }
 },
 "nbformat": 4,
 "nbformat_minor": 5
}
