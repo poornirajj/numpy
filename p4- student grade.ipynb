{
 "cells": [
  {
   "cell_type": "code",
   "execution_count": 1,
   "id": "af8ace6c",
   "metadata": {},
   "outputs": [],
   "source": [
    "import numpy as np"
   ]
  },
  {
   "cell_type": "markdown",
   "id": "2aee3d66",
   "metadata": {},
   "source": [
    "# 1. Create a 5x4 array of zeros to represent grades of 5 students across 4 subjects"
   ]
  },
  {
   "cell_type": "code",
   "execution_count": 2,
   "id": "23ccd642",
   "metadata": {},
   "outputs": [
    {
     "name": "stdout",
     "output_type": "stream",
     "text": [
      "1️⃣ Initial Grades (All Zeros):\n",
      " [[0 0 0 0]\n",
      " [0 0 0 0]\n",
      " [0 0 0 0]\n",
      " [0 0 0 0]\n",
      " [0 0 0 0]]\n"
     ]
    }
   ],
   "source": [
    "grades = np.zeros((5, 4), dtype=int)\n",
    "print(\"1️⃣ Initial Grades (All Zeros):\\n\", grades)"
   ]
  },
  {
   "cell_type": "markdown",
   "id": "53073fdb",
   "metadata": {},
   "source": [
    "# 2. Fill the array with random grades between 50 and 100"
   ]
  },
  {
   "cell_type": "code",
   "execution_count": 3,
   "id": "29048222",
   "metadata": {},
   "outputs": [
    {
     "name": "stdout",
     "output_type": "stream",
     "text": [
      "\n",
      "2️⃣ Random Grades (50-100):\n",
      " [[80 74 98 58]\n",
      " [59 66 79 84]\n",
      " [76 73 82 64]\n",
      " [63 73 78 80]\n",
      " [99 55 77 52]]\n"
     ]
    }
   ],
   "source": [
    "grades = np.random.randint(50, 101, size=(5, 4))\n",
    "print(\"\\n2️⃣ Random Grades (50-100):\\n\", grades)"
   ]
  },
  {
   "cell_type": "markdown",
   "id": "28861b3c",
   "metadata": {},
   "source": [
    "# 3. Create a new array for maximum possible grades per subject (assume 100 for all)"
   ]
  },
  {
   "cell_type": "code",
   "execution_count": 4,
   "id": "32f2039a",
   "metadata": {},
   "outputs": [
    {
     "name": "stdout",
     "output_type": "stream",
     "text": [
      "\n",
      "3️⃣ Max Grades per Subject:\n",
      " [[100 100 100 100]]\n"
     ]
    }
   ],
   "source": [
    "max_grades = np.full((1, 4), 100)\n",
    "print(\"\\n3️⃣ Max Grades per Subject:\\n\", max_grades)"
   ]
  },
  {
   "cell_type": "markdown",
   "id": "a44ce4f7",
   "metadata": {},
   "source": [
    "# 4. Reshape grades array to represent 2 semesters (e.g., 2x10 matrix)"
   ]
  },
  {
   "cell_type": "code",
   "execution_count": 5,
   "id": "11385104",
   "metadata": {},
   "outputs": [
    {
     "name": "stdout",
     "output_type": "stream",
     "text": [
      "\n",
      "4️⃣ Reshaped Grades (2 Semesters):\n",
      " [[80 74 98 58 59 66 79 84 76 73]\n",
      " [82 64 63 73 78 80 99 55 77 52]]\n"
     ]
    }
   ],
   "source": [
    "grades_reshaped = grades.reshape(2, 10)\n",
    "print(\"\\n4️⃣ Reshaped Grades (2 Semesters):\\n\", grades_reshaped)"
   ]
  },
  {
   "cell_type": "markdown",
   "id": "53016e68",
   "metadata": {},
   "source": [
    "# 5. Clone the grades array and simulate improvement (e.g., add +5 to each grade)"
   ]
  },
  {
   "cell_type": "code",
   "execution_count": 6,
   "id": "30f8279a",
   "metadata": {},
   "outputs": [
    {
     "ename": "NameError",
     "evalue": "name 'improved_grades' is not defined",
     "output_type": "error",
     "traceback": [
      "\u001b[31m---------------------------------------------------------------------------\u001b[39m",
      "\u001b[31mNameError\u001b[39m                                 Traceback (most recent call last)",
      "\u001b[36mCell\u001b[39m\u001b[36m \u001b[39m\u001b[32mIn[6]\u001b[39m\u001b[32m, line 2\u001b[39m\n\u001b[32m      1\u001b[39m mproved_grades = grades.copy()\n\u001b[32m----> \u001b[39m\u001b[32m2\u001b[39m \u001b[43mimproved_grades\u001b[49m += \u001b[32m5\u001b[39m\n\u001b[32m      3\u001b[39m improved_grades = np.clip(improved_grades, \u001b[32m0\u001b[39m, \u001b[32m100\u001b[39m)  \u001b[38;5;66;03m# Ensure no value exceeds 100\u001b[39;00m\n\u001b[32m      4\u001b[39m \u001b[38;5;28mprint\u001b[39m(\u001b[33m\"\u001b[39m\u001b[38;5;130;01m\\n\u001b[39;00m\u001b[33m5️⃣ Improved Grades (Cloned and Modified):\u001b[39m\u001b[38;5;130;01m\\n\u001b[39;00m\u001b[33m\"\u001b[39m, improved_grades)\n",
      "\u001b[31mNameError\u001b[39m: name 'improved_grades' is not defined"
     ]
    }
   ],
   "source": [
    "mproved_grades = grades.copy()\n",
    "improved_grades += 5\n",
    "improved_grades = np.clip(improved_grades, 0, 100)  # Ensure no value exceeds 100\n",
    "print(\"\\n5️⃣ Improved Grades (Cloned and Modified):\\n\", improved_grades)\n"
   ]
  },
  {
   "cell_type": "markdown",
   "id": "ce8b8bd7",
   "metadata": {},
   "source": [
    "# 6. Extract and display:"
   ]
  },
  {
   "cell_type": "code",
   "execution_count": null,
   "id": "da939125",
   "metadata": {},
   "outputs": [],
   "source": [
    "#  a. Grades of a specific student (2nd student → index 1)\n",
    "student_2_grades = grades[1]\n",
    "# b. Grades in a specific subject (3rd subject → index 2)\n",
    "subject_3_grades = grades[:, 2]\n"
   ]
  },
  {
   "cell_type": "code",
   "execution_count": null,
   "id": "0b45fda4",
   "metadata": {},
   "outputs": [],
   "source": [
    "print(\"\\n6️⃣ Extracted Data:\")\n",
    "print(\"Grades of Student 2:\", student_2_grades)\n",
    "print(\"Grades in Subject 3:\", subject_3_grades)"
   ]
  }
 ],
 "metadata": {
  "kernelspec": {
   "display_name": "Python 3",
   "language": "python",
   "name": "python3"
  },
  "language_info": {
   "codemirror_mode": {
    "name": "ipython",
    "version": 3
   },
   "file_extension": ".py",
   "mimetype": "text/x-python",
   "name": "python",
   "nbconvert_exporter": "python",
   "pygments_lexer": "ipython3",
   "version": "3.13.5"
  }
 },
 "nbformat": 4,
 "nbformat_minor": 5
}
