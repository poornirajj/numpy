{
 "cells": [
  {
   "cell_type": "code",
   "execution_count": 1,
   "id": "f998fdd4",
   "metadata": {},
   "outputs": [],
   "source": [
    "import numpy as np"
   ]
  },
  {
   "cell_type": "code",
   "execution_count": 2,
   "id": "0dbf4a6c",
   "metadata": {},
   "outputs": [],
   "source": [
    "stock_prices = np.random.randint(100, 300, size=(5, 30))  # 5 stocks × 30 days\n",
    "investments = np.full(5, 10000)\n",
    "trading_days = np.arange(30)\n"
   ]
  },
  {
   "cell_type": "code",
   "execution_count": 3,
   "id": "1ef07391",
   "metadata": {},
   "outputs": [],
   "source": [
    "price_changes = np.random.rand(5, 30)\n",
    "weekly_prices = stock_prices[:, :28].reshape(5, 4, 7)\n"
   ]
  },
  {
   "cell_type": "code",
   "execution_count": 4,
   "id": "f1bdc9de",
   "metadata": {},
   "outputs": [],
   "source": [
    "# Daily returns\n",
    "returns = np.diff(stock_prices, axis=1) / stock_prices[:, :-1]\n",
    "log_returns = np.log1p(returns)\n",
    "compound_growth = np.power(1 + returns, 30)\n"
   ]
  },
  {
   "cell_type": "code",
   "execution_count": 5,
   "id": "a710600f",
   "metadata": {},
   "outputs": [],
   "source": [
    "loss_days = returns < 0\n",
    "profit_or_loss = np.where(returns > 0, \"Profit\", \"Loss\")\n",
    "volatility = np.std(returns, axis=1)\n",
    "sorted_volatility = np.argsort(volatility)\n"
   ]
  },
  {
   "cell_type": "code",
   "execution_count": 6,
   "id": "f5f7cf07",
   "metadata": {},
   "outputs": [],
   "source": [
    "cov_matrix = np.dot(returns, returns.T)\n",
    "eigen_vals, eigen_vecs = np.linalg.eig(cov_matrix)\n",
    "\n",
    "# Optimization (x + y = 1, 0.1x + 0.2y = expected return)\n",
    "A = np.array([[1, 1], [0.1, 0.2]])\n",
    "B = np.array([1, 0.15])\n",
    "opt_weights = np.linalg.solve(A, B)\n",
    "\n",
    "VaR = np.percentile(log_returns, 5)\n",
    "hist_returns = np.histogram(log_returns, bins=10)\n"
   ]
  },
  {
   "cell_type": "code",
   "execution_count": 7,
   "id": "a814c535",
   "metadata": {},
   "outputs": [
    {
     "ename": "FileNotFoundError",
     "evalue": "stocks.csv not found.",
     "output_type": "error",
     "traceback": [
      "\u001b[31m---------------------------------------------------------------------------\u001b[39m",
      "\u001b[31mFileNotFoundError\u001b[39m                         Traceback (most recent call last)",
      "\u001b[36mCell\u001b[39m\u001b[36m \u001b[39m\u001b[32mIn[7]\u001b[39m\u001b[32m, line 1\u001b[39m\n\u001b[32m----> \u001b[39m\u001b[32m1\u001b[39m stock_data = \u001b[43mnp\u001b[49m\u001b[43m.\u001b[49m\u001b[43mgenfromtxt\u001b[49m\u001b[43m(\u001b[49m\u001b[33;43m\"\u001b[39;49m\u001b[33;43mstocks.csv\u001b[39;49m\u001b[33;43m\"\u001b[39;49m\u001b[43m,\u001b[49m\u001b[43m \u001b[49m\u001b[43mdelimiter\u001b[49m\u001b[43m=\u001b[49m\u001b[33;43m\"\u001b[39;49m\u001b[33;43m,\u001b[39;49m\u001b[33;43m\"\u001b[39;49m\u001b[43m,\u001b[49m\u001b[43m \u001b[49m\u001b[43mskip_header\u001b[49m\u001b[43m=\u001b[49m\u001b[32;43m1\u001b[39;49m\u001b[43m)\u001b[49m\n\u001b[32m      2\u001b[39m cleaned = np.nanmean(stock_data, axis=\u001b[32m0\u001b[39m)\n\u001b[32m      4\u001b[39m \u001b[38;5;66;03m# Vectorized vs Loop\u001b[39;00m\n",
      "\u001b[36mFile \u001b[39m\u001b[32mc:\\Users\\Ayyappan\\AppData\\Local\\Programs\\Python\\Python313\\Lib\\site-packages\\numpy\\lib\\_npyio_impl.py:1991\u001b[39m, in \u001b[36mgenfromtxt\u001b[39m\u001b[34m(fname, dtype, comments, delimiter, skip_header, skip_footer, converters, missing_values, filling_values, usecols, names, excludelist, deletechars, replace_space, autostrip, case_sensitive, defaultfmt, unpack, usemask, loose, invalid_raise, max_rows, encoding, ndmin, like)\u001b[39m\n\u001b[32m   1989\u001b[39m     fname = os.fspath(fname)\n\u001b[32m   1990\u001b[39m \u001b[38;5;28;01mif\u001b[39;00m \u001b[38;5;28misinstance\u001b[39m(fname, \u001b[38;5;28mstr\u001b[39m):\n\u001b[32m-> \u001b[39m\u001b[32m1991\u001b[39m     fid = \u001b[43mnp\u001b[49m\u001b[43m.\u001b[49m\u001b[43mlib\u001b[49m\u001b[43m.\u001b[49m\u001b[43m_datasource\u001b[49m\u001b[43m.\u001b[49m\u001b[43mopen\u001b[49m\u001b[43m(\u001b[49m\u001b[43mfname\u001b[49m\u001b[43m,\u001b[49m\u001b[43m \u001b[49m\u001b[33;43m'\u001b[39;49m\u001b[33;43mrt\u001b[39;49m\u001b[33;43m'\u001b[39;49m\u001b[43m,\u001b[49m\u001b[43m \u001b[49m\u001b[43mencoding\u001b[49m\u001b[43m=\u001b[49m\u001b[43mencoding\u001b[49m\u001b[43m)\u001b[49m\n\u001b[32m   1992\u001b[39m     fid_ctx = contextlib.closing(fid)\n\u001b[32m   1993\u001b[39m \u001b[38;5;28;01melse\u001b[39;00m:\n",
      "\u001b[36mFile \u001b[39m\u001b[32mc:\\Users\\Ayyappan\\AppData\\Local\\Programs\\Python\\Python313\\Lib\\site-packages\\numpy\\lib\\_datasource.py:192\u001b[39m, in \u001b[36mopen\u001b[39m\u001b[34m(path, mode, destpath, encoding, newline)\u001b[39m\n\u001b[32m    155\u001b[39m \u001b[38;5;250m\u001b[39m\u001b[33;03m\"\"\"\u001b[39;00m\n\u001b[32m    156\u001b[39m \u001b[33;03mOpen `path` with `mode` and return the file object.\u001b[39;00m\n\u001b[32m    157\u001b[39m \n\u001b[32m   (...)\u001b[39m\u001b[32m    188\u001b[39m \n\u001b[32m    189\u001b[39m \u001b[33;03m\"\"\"\u001b[39;00m\n\u001b[32m    191\u001b[39m ds = DataSource(destpath)\n\u001b[32m--> \u001b[39m\u001b[32m192\u001b[39m \u001b[38;5;28;01mreturn\u001b[39;00m \u001b[43mds\u001b[49m\u001b[43m.\u001b[49m\u001b[43mopen\u001b[49m\u001b[43m(\u001b[49m\u001b[43mpath\u001b[49m\u001b[43m,\u001b[49m\u001b[43m \u001b[49m\u001b[43mmode\u001b[49m\u001b[43m,\u001b[49m\u001b[43m \u001b[49m\u001b[43mencoding\u001b[49m\u001b[43m=\u001b[49m\u001b[43mencoding\u001b[49m\u001b[43m,\u001b[49m\u001b[43m \u001b[49m\u001b[43mnewline\u001b[49m\u001b[43m=\u001b[49m\u001b[43mnewline\u001b[49m\u001b[43m)\u001b[49m\n",
      "\u001b[36mFile \u001b[39m\u001b[32mc:\\Users\\Ayyappan\\AppData\\Local\\Programs\\Python\\Python313\\Lib\\site-packages\\numpy\\lib\\_datasource.py:529\u001b[39m, in \u001b[36mDataSource.open\u001b[39m\u001b[34m(self, path, mode, encoding, newline)\u001b[39m\n\u001b[32m    526\u001b[39m     \u001b[38;5;28;01mreturn\u001b[39;00m _file_openers[ext](found, mode=mode,\n\u001b[32m    527\u001b[39m                               encoding=encoding, newline=newline)\n\u001b[32m    528\u001b[39m \u001b[38;5;28;01melse\u001b[39;00m:\n\u001b[32m--> \u001b[39m\u001b[32m529\u001b[39m     \u001b[38;5;28;01mraise\u001b[39;00m \u001b[38;5;167;01mFileNotFoundError\u001b[39;00m(\u001b[33mf\u001b[39m\u001b[33m\"\u001b[39m\u001b[38;5;132;01m{\u001b[39;00mpath\u001b[38;5;132;01m}\u001b[39;00m\u001b[33m not found.\u001b[39m\u001b[33m\"\u001b[39m)\n",
      "\u001b[31mFileNotFoundError\u001b[39m: stocks.csv not found."
     ]
    }
   ],
   "source": [
    "stock_data = np.genfromtxt(\"stocks.csv\", delimiter=\",\", skip_header=1)\n",
    "cleaned = np.nanmean(stock_data, axis=0)\n",
    "\n",
    "# Vectorized vs Loop\n",
    "returns_vec = stock_data[:, 1:] - stock_data[:, :-1]\n"
   ]
  }
 ],
 "metadata": {
  "kernelspec": {
   "display_name": "Python 3",
   "language": "python",
   "name": "python3"
  },
  "language_info": {
   "codemirror_mode": {
    "name": "ipython",
    "version": 3
   },
   "file_extension": ".py",
   "mimetype": "text/x-python",
   "name": "python",
   "nbconvert_exporter": "python",
   "pygments_lexer": "ipython3",
   "version": "3.13.5"
  }
 },
 "nbformat": 4,
 "nbformat_minor": 5
}
