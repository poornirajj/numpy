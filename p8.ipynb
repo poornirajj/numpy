{
 "cells": [
  {
   "cell_type": "code",
   "execution_count": 1,
   "id": "8a810cea",
   "metadata": {},
   "outputs": [
    {
     "ename": "NameError",
     "evalue": "name 'np' is not defined",
     "output_type": "error",
     "traceback": [
      "\u001b[31m---------------------------------------------------------------------------\u001b[39m",
      "\u001b[31mNameError\u001b[39m                                 Traceback (most recent call last)",
      "\u001b[36mCell\u001b[39m\u001b[36m \u001b[39m\u001b[32mIn[1]\u001b[39m\u001b[32m, line 2\u001b[39m\n\u001b[32m      1\u001b[39m \u001b[38;5;66;03m# 1. Create 3D array: (5 cities, 7 days, 3 parameters)\u001b[39;00m\n\u001b[32m----> \u001b[39m\u001b[32m2\u001b[39m weather_data = \u001b[43mnp\u001b[49m.random.uniform(\n\u001b[32m      3\u001b[39m     low=[\u001b[32m15\u001b[39m, \u001b[32m40\u001b[39m, \u001b[32m0\u001b[39m], high=[\u001b[32m40\u001b[39m, \u001b[32m100\u001b[39m, \u001b[32m20\u001b[39m], size=(\u001b[32m5\u001b[39m, \u001b[32m7\u001b[39m, \u001b[32m3\u001b[39m)\n\u001b[32m      4\u001b[39m ).round(\u001b[32m1\u001b[39m)  \u001b[38;5;66;03m# temp, humidity, rainfall\u001b[39;00m\n\u001b[32m      6\u001b[39m \u001b[38;5;66;03m# 2. Horizontally stack data of two cities → shape should become (5, 7, 6)\u001b[39;00m\n\u001b[32m      7\u001b[39m \u001b[38;5;66;03m# We'll stack parameters side-by-side for city0 and city1\u001b[39;00m\n\u001b[32m      8\u001b[39m city0 = weather_data[\u001b[32m0\u001b[39m]  \u001b[38;5;66;03m# shape (7, 3)\u001b[39;00m\n",
      "\u001b[31mNameError\u001b[39m: name 'np' is not defined"
     ]
    }
   ],
   "source": [
    "# 1. Create 3D array: (5 cities, 7 days, 3 parameters)\n",
    "weather_data = np.random.uniform(\n",
    "    low=[15, 40, 0], high=[40, 100, 20], size=(5, 7, 3)\n",
    ").round(1)  # temp, humidity, rainfall\n",
    "\n",
    "# 2. Horizontally stack data of two cities → shape should become (5, 7, 6)\n",
    "# We'll stack parameters side-by-side for city0 and city1\n",
    "city0 = weather_data[0]  # shape (7, 3)\n",
    "city1 = weather_data[1]  # shape (7, 3)\n",
    "hstacked_weather = np.hstack((city0, city1))  # shape (7, 6)\n",
    "print(\"Horizontally stacked data for 2 cities:\\n\", hstacked_weather)\n",
    "\n",
    "# 3. Transpose to swap cities and days → shape becomes (7, 5, 3)\n",
    "transposed_weather = np.transpose(weather_data, (1, 0, 2))\n",
    "print(\"Shape after transposing (cities <-> days):\", transposed_weather.shape)\n",
    "\n",
    "# 4. Split data along first axis (cities) to get per-city weather data\n",
    "city_splits = np.array_split(weather_data, 5, axis=0)\n",
    "for i, city in enumerate(city_splits):\n",
    "    print(f\"City {i+1} Weather Data:\\n\", city)\n",
    "\n",
    "# 5. Swap axes: swap cities (0) and days (1)\n",
    "swapped_weather = np.swapaxes(weather_data, 0, 1)  # shape: (7, 5, 3)\n",
    "print(\"Swapped axes (cities <-> days):\", swapped_weather.shape)\n",
    "\n",
    "# 6. Extract temperature (index 0) on Day 4 (index 3) across all cities\n",
    "temperature_day4 = weather_data[:, 3, 0]  # shape (5,)\n",
    "print(\"Temperature on Day 4 across all cities:\", temperature_day4)\n"
   ]
  }
 ],
 "metadata": {
  "kernelspec": {
   "display_name": "Python 3",
   "language": "python",
   "name": "python3"
  },
  "language_info": {
   "codemirror_mode": {
    "name": "ipython",
    "version": 3
   },
   "file_extension": ".py",
   "mimetype": "text/x-python",
   "name": "python",
   "nbconvert_exporter": "python",
   "pygments_lexer": "ipython3",
   "version": "3.13.5"
  }
 },
 "nbformat": 4,
 "nbformat_minor": 5
}
