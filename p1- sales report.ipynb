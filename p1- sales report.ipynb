{
 "cells": [
  {
   "cell_type": "markdown",
   "id": "2c2b687c",
   "metadata": {},
   "source": [
    "# Start by importing the NumPy library."
   ]
  },
  {
   "cell_type": "code",
   "execution_count": 1,
   "id": "8ff2538e",
   "metadata": {},
   "outputs": [],
   "source": [
    "import numpy as np"
   ]
  },
  {
   "cell_type": "markdown",
   "id": "82277fe8",
   "metadata": {},
   "source": [
    "# Create a 2D Array with Sales Data"
   ]
  },
  {
   "cell_type": "code",
   "execution_count": 2,
   "id": "371d61a8",
   "metadata": {},
   "outputs": [
    {
     "name": "stdout",
     "output_type": "stream",
     "text": [
      "[[0 0 0 0]\n",
      " [0 0 0 0]\n",
      " [0 0 0 0]]\n"
     ]
    }
   ],
   "source": [
    "sales_data = np.zeros((3, 4), dtype=int)\n",
    "print(sales_data)"
   ]
  },
  {
   "cell_type": "markdown",
   "id": "ae8e8ba5",
   "metadata": {},
   "source": [
    "# Fill the Sales Data with Values"
   ]
  },
  {
   "cell_type": "code",
   "execution_count": 3,
   "id": "9e07fb23",
   "metadata": {},
   "outputs": [
    {
     "name": "stdout",
     "output_type": "stream",
     "text": [
      "[[100 150 200 250]\n",
      " [100 150 200 250]\n",
      " [100 150 200 250]]\n"
     ]
    }
   ],
   "source": [
    "sales_data = np.full((3, 4), [100, 150, 200, 250], dtype=int)\n",
    "print(sales_data)"
   ]
  },
  {
   "cell_type": "markdown",
   "id": "73a018f0",
   "metadata": {},
   "source": [
    "# Reshape the Data Array"
   ]
  },
  {
   "cell_type": "code",
   "execution_count": 4,
   "id": "35e0dc75",
   "metadata": {},
   "outputs": [
    {
     "name": "stdout",
     "output_type": "stream",
     "text": [
      "[[100 150 200]\n",
      " [250 100 150]\n",
      " [200 250 100]\n",
      " [150 200 250]]\n"
     ]
    }
   ],
   "source": [
    "reshaped_sales_data = sales_data.reshape(4, 3)\n",
    "print(reshaped_sales_data)"
   ]
  },
  {
   "cell_type": "markdown",
   "id": "85de72b0",
   "metadata": {},
   "source": [
    "#  Generate Random Sales Data"
   ]
  },
  {
   "cell_type": "code",
   "execution_count": 5,
   "id": "a2eafe31",
   "metadata": {},
   "outputs": [
    {
     "name": "stdout",
     "output_type": "stream",
     "text": [
      "[[266 253 114 278]\n",
      " [146 128 295 239]\n",
      " [208 117 260  87]]\n"
     ]
    }
   ],
   "source": [
    "random_sales_data = np.random.randint(50, 300, size=(3, 4))\n",
    "print(random_sales_data)"
   ]
  },
  {
   "cell_type": "markdown",
   "id": "0bbbb861",
   "metadata": {},
   "source": [
    "# : Copying and Cloning Data"
   ]
  },
  {
   "cell_type": "code",
   "execution_count": 6,
   "id": "7328dc90",
   "metadata": {},
   "outputs": [
    {
     "name": "stdout",
     "output_type": "stream",
     "text": [
      "Original Sales Data:\n",
      " [[266 253 114 278]\n",
      " [146 128 295 239]\n",
      " [208 117 260  87]]\n",
      "Modified Sales Data Copy:\n",
      " [[999 253 114 278]\n",
      " [146 128 295 239]\n",
      " [208 117 260  87]]\n"
     ]
    }
   ],
   "source": [
    "sales_data_copy = random_sales_data.copy()\n",
    "sales_data_copy[0, 0] = 999 # Modify the copy\n",
    "print(\"Original Sales Data:\\n\", random_sales_data)\n",
    "print(\"Modified Sales Data Copy:\\n\", sales_data_copy)"
   ]
  },
  {
   "cell_type": "markdown",
   "id": "9b53e6b9",
   "metadata": {},
   "source": [
    "# Indexing and Slicing 2D Array"
   ]
  },
  {
   "cell_type": "code",
   "execution_count": 7,
   "id": "e42facf9",
   "metadata": {},
   "outputs": [
    {
     "name": "stdout",
     "output_type": "stream",
     "text": [
      "[[266 253 114 278]\n",
      " [146 128 295 239]]\n"
     ]
    }
   ],
   "source": [
    "sliced_data = random_sales_data[:2, :]\n",
    "print(sliced_data)"
   ]
  }
 ],
 "metadata": {
  "kernelspec": {
   "display_name": "Python 3",
   "language": "python",
   "name": "python3"
  },
  "language_info": {
   "codemirror_mode": {
    "name": "ipython",
    "version": 3
   },
   "file_extension": ".py",
   "mimetype": "text/x-python",
   "name": "python",
   "nbconvert_exporter": "python",
   "pygments_lexer": "ipython3",
   "version": "3.13.5"
  }
 },
 "nbformat": 4,
 "nbformat_minor": 5
}
