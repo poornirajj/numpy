{
 "cells": [
  {
   "cell_type": "code",
   "execution_count": 19,
   "id": "dd261f67",
   "metadata": {},
   "outputs": [
    {
     "name": "stdout",
     "output_type": "stream",
     "text": [
      "Matrix A:\n",
      " [[9 4 6]\n",
      " [8 9 1]\n",
      " [1 9 4]]\n",
      "Matrix B:\n",
      " [[9 3 7]\n",
      " [4 6 1]\n",
      " [3 2 1]]\n",
      "A · B (using np.dot()):\n",
      " [[115  63  73]\n",
      " [111  80  66]\n",
      " [ 57  65  20]]\n"
     ]
    }
   ],
   "source": [
    "import numpy as np\n",
    "\n",
    "# Create two random 3x3 matrices\n",
    "A = np.random.randint(1, 10, (3, 3))\n",
    "B = np.random.randint(1, 10, (3, 3))\n",
    "\n",
    "# Multiply using np.dot\n",
    "result_dot = np.dot(A, B)\n",
    "print(\"Matrix A:\\n\", A)\n",
    "print(\"Matrix B:\\n\", B)\n",
    "print(\"A · B (using np.dot()):\\n\", result_dot)\n"
   ]
  },
  {
   "cell_type": "code",
   "execution_count": 20,
   "id": "ea6f81d4",
   "metadata": {},
   "outputs": [
    {
     "name": "stdout",
     "output_type": "stream",
     "text": [
      "\n",
      "A · B (using np.matmul()):\n",
      " [[115  63  73]\n",
      " [111  80  66]\n",
      " [ 57  65  20]]\n",
      "Are results from dot() and matmul() equal? True\n"
     ]
    }
   ],
   "source": [
    "# Multiply using np.matmul\n",
    "result_matmul = np.matmul(A, B)\n",
    "print(\"\\nA · B (using np.matmul()):\\n\", result_matmul)\n",
    "\n",
    "# Compare with np.dot\n",
    "print(\"Are results from dot() and matmul() equal?\", np.allclose(result_dot, result_matmul))\n"
   ]
  },
  {
   "cell_type": "code",
   "execution_count": 21,
   "id": "12fa48e4",
   "metadata": {},
   "outputs": [
    {
     "name": "stdout",
     "output_type": "stream",
     "text": [
      "\n",
      "C @ D:\n",
      " [[19 22]\n",
      " [43 50]]\n",
      "C · D (np.dot()):\n",
      " [[19 22]\n",
      " [43 50]]\n",
      "Match: True\n"
     ]
    }
   ],
   "source": [
    "# Create 2x2 matrices\n",
    "C = np.array([[1, 2], [3, 4]])\n",
    "D = np.array([[5, 6], [7, 8]])\n",
    "\n",
    "result_at = C @ D\n",
    "result_dot_2x2 = np.dot(C, D)\n",
    "\n",
    "print(\"\\nC @ D:\\n\", result_at)\n",
    "print(\"C · D (np.dot()):\\n\", result_dot_2x2)\n",
    "print(\"Match:\", np.allclose(result_at, result_dot_2x2))\n"
   ]
  },
  {
   "cell_type": "code",
   "execution_count": 22,
   "id": "364a7915",
   "metadata": {},
   "outputs": [
    {
     "name": "stdout",
     "output_type": "stream",
     "text": [
      "\n",
      "Matrix E:\n",
      " [[4 7]\n",
      " [2 6]]\n",
      "Inverse of E:\n",
      " [[ 0.6 -0.7]\n",
      " [-0.2  0.4]]\n",
      "E · E_inv:\n",
      " [[ 1.00000000e+00 -1.11022302e-16]\n",
      " [ 1.11022302e-16  1.00000000e+00]]\n"
     ]
    }
   ],
   "source": [
    "# Create 2x2 matrix\n",
    "E = np.array([[4, 7], [2, 6]])\n",
    "\n",
    "# Compute inverse\n",
    "E_inv = np.linalg.inv(E)\n",
    "\n",
    "# Verify: E · E_inv = Identity\n",
    "identity_check = np.dot(E, E_inv)\n",
    "\n",
    "print(\"\\nMatrix E:\\n\", E)\n",
    "print(\"Inverse of E:\\n\", E_inv)\n",
    "print(\"E · E_inv:\\n\", identity_check)\n"
   ]
  },
  {
   "cell_type": "code",
   "execution_count": 23,
   "id": "2f862607",
   "metadata": {},
   "outputs": [
    {
     "name": "stdout",
     "output_type": "stream",
     "text": [
      "\n",
      "Matrix F:\n",
      " [[ 2  5  3]\n",
      " [ 1 -2 -1]\n",
      " [ 1  3  4]]\n",
      "Determinant of F: -20.000000000000007\n"
     ]
    }
   ],
   "source": [
    "F = np.array([[2, 5, 3], [1, -2, -1], [1, 3, 4]])\n",
    "det_F = np.linalg.det(F)\n",
    "print(\"\\nMatrix F:\\n\", F)\n",
    "print(\"Determinant of F:\", det_F)\n"
   ]
  },
  {
   "cell_type": "code",
   "execution_count": 24,
   "id": "337a837e",
   "metadata": {},
   "outputs": [
    {
     "name": "stdout",
     "output_type": "stream",
     "text": [
      "\n",
      "Matrix G:\n",
      " [[ 4 -2  1]\n",
      " [ 1  1  0]\n",
      " [ 0  5  4]]\n",
      "Eigenvalues:\n",
      " [2.04791957+1.31124804j 2.04791957-1.31124804j 4.90416086+0.j        ]\n",
      "Eigenvectors:\n",
      " [[-0.554451  -0.17459402j -0.554451  +0.17459402j  0.57055419+0.j        ]\n",
      " [-0.28747263+0.19310061j -0.28747263-0.19310061j  0.14614003+0.j        ]\n",
      " [ 0.73632374+0.j          0.73632374-0.j          0.80815283+0.j        ]]\n"
     ]
    }
   ],
   "source": [
    "G = np.array([[4, -2, 1], [1, 1, 0], [0, 5, 4]])\n",
    "eigenvalues, eigenvectors = np.linalg.eig(G)\n",
    "\n",
    "print(\"\\nMatrix G:\\n\", G)\n",
    "print(\"Eigenvalues:\\n\", eigenvalues)\n",
    "print(\"Eigenvectors:\\n\", eigenvectors)\n"
   ]
  },
  {
   "cell_type": "code",
   "execution_count": 25,
   "id": "d42f8799",
   "metadata": {},
   "outputs": [
    {
     "name": "stdout",
     "output_type": "stream",
     "text": [
      "\n",
      "Solving Ax = b\n",
      "A:\n",
      " [[2 3]\n",
      " [1 2]]\n",
      "b:\n",
      " [8 5]\n",
      "x:\n",
      " [1. 2.]\n"
     ]
    }
   ],
   "source": [
    "A_sys = np.array([[2, 3], [1, 2]])\n",
    "b_sys = np.array([8, 5])\n",
    "x = np.linalg.solve(A_sys, b_sys)\n",
    "\n",
    "print(\"\\nSolving Ax = b\")\n",
    "print(\"A:\\n\", A_sys)\n",
    "print(\"b:\\n\", b_sys)\n",
    "print(\"x:\\n\", x)\n"
   ]
  },
  {
   "cell_type": "code",
   "execution_count": 26,
   "id": "d606843f",
   "metadata": {},
   "outputs": [
    {
     "name": "stdout",
     "output_type": "stream",
     "text": [
      "\n",
      "Percentiles of random data:\n",
      "25th: -0.6872885076178216\n",
      "50th (Median): -0.014542708891008367\n",
      "75th: 0.6473071865648987\n"
     ]
    }
   ],
   "source": [
    "data = np.random.randn(1000)\n",
    "\n",
    "p25 = np.percentile(data, 25)\n",
    "p50 = np.percentile(data, 50)\n",
    "p75 = np.percentile(data, 75)\n",
    "\n",
    "print(\"\\nPercentiles of random data:\")\n",
    "print(\"25th:\", p25)\n",
    "print(\"50th (Median):\", p50)\n",
    "print(\"75th:\", p75)\n"
   ]
  },
  {
   "cell_type": "code",
   "execution_count": 27,
   "id": "cf4c32e8",
   "metadata": {},
   "outputs": [
    {
     "ename": "ModuleNotFoundError",
     "evalue": "No module named 'matplotlib'",
     "output_type": "error",
     "traceback": [
      "\u001b[31m---------------------------------------------------------------------------\u001b[39m",
      "\u001b[31mModuleNotFoundError\u001b[39m                       Traceback (most recent call last)",
      "\u001b[36mCell\u001b[39m\u001b[36m \u001b[39m\u001b[32mIn[27]\u001b[39m\u001b[32m, line 1\u001b[39m\n\u001b[32m----> \u001b[39m\u001b[32m1\u001b[39m \u001b[38;5;28;01mimport\u001b[39;00m\u001b[38;5;250m \u001b[39m\u001b[34;01mmatplotlib\u001b[39;00m\u001b[34;01m.\u001b[39;00m\u001b[34;01mpyplot\u001b[39;00m\u001b[38;5;250m \u001b[39m\u001b[38;5;28;01mas\u001b[39;00m\u001b[38;5;250m \u001b[39m\u001b[34;01mplt\u001b[39;00m\n\u001b[32m      2\u001b[39m data = np.random.randn(\u001b[32m1000\u001b[39m)\n\u001b[32m      3\u001b[39m hist, bin_edges = np.histogram(data, bins=\u001b[32m20\u001b[39m)\n",
      "\u001b[31mModuleNotFoundError\u001b[39m: No module named 'matplotlib'"
     ]
    }
   ],
   "source": [
    "import matplotlib.pyplot as plt\n",
    "data = np.random.randn(1000)\n",
    "hist, bin_edges = np.histogram(data, bins=20)\n",
    "\n",
    "print(\"\\nHistogram counts:\\n\", hist)\n",
    "print(\"Bin edges:\\n\", bin_edges)\n",
    "\n",
    "# Optional: Visualize\n",
    "plt.hist(data, bins=20, edgecolor='black')\n",
    "plt.title(\"Histogram of Normally Distributed Data\")\n",
    "plt.xlabel(\"Value\")\n",
    "plt.ylabel(\"Frequency\")\n",
    "plt.grid(True)\n",
    "plt.show()\n"
   ]
  },
  {
   "cell_type": "code",
   "execution_count": null,
   "id": "06084ecd",
   "metadata": {},
   "outputs": [],
   "source": [
    "dataset = np.arange(1, 11)\n",
    "\n",
    "for i in range(1, 4):\n",
    "    sample = np.random.choice(dataset, size=5, replace=False)\n",
    "    print(f\"\\nRandom Sample {i}:\", sample)\n"
   ]
  },
  {
   "cell_type": "code",
   "execution_count": null,
   "id": "3f9a398c",
   "metadata": {},
   "outputs": [],
   "source": [
    "normal_data = np.random.randn(1000)\n",
    "mean = np.mean(normal_data)\n",
    "std_dev = np.std(normal_data)\n",
    "\n",
    "print(\"\\nMean of normal distribution:\", mean)\n",
    "print(\"Standard deviation:\", std_dev)\n"
   ]
  },
  {
   "cell_type": "code",
   "execution_count": null,
   "id": "66655d6f",
   "metadata": {},
   "outputs": [],
   "source": [
    "cumulative_data = np.cumsum(normal_data)\n",
    "\n",
    "plt.plot(cumulative_data)\n",
    "plt.title(\"Cumulative Distribution\")\n",
    "plt.xlabel(\"Index\")\n",
    "plt.ylabel(\"Cumulative Sum\")\n",
    "plt.grid(True)\n",
    "plt.show()\n"
   ]
  },
  {
   "cell_type": "code",
   "execution_count": null,
   "id": "55ba378c",
   "metadata": {},
   "outputs": [],
   "source": [
    "tosses = np.random.choice([0, 1], size=100)  # 0 = Tails, 1 = Heads\n",
    "heads = np.sum(tosses)\n",
    "tails = len(tosses) - heads\n",
    "\n",
    "print(\"\\nCoin Toss Simulation (100 trials):\")\n",
    "print(\"Heads:\", heads)\n",
    "print(\"Tails:\", tails)\n",
    "print(\"Proportion Heads:\", heads / 100)\n",
    "print(\"Proportion Tails:\", tails / 100)\n"
   ]
  }
 ],
 "metadata": {
  "kernelspec": {
   "display_name": "Python 3",
   "language": "python",
   "name": "python3"
  },
  "language_info": {
   "codemirror_mode": {
    "name": "ipython",
    "version": 3
   },
   "file_extension": ".py",
   "mimetype": "text/x-python",
   "name": "python",
   "nbconvert_exporter": "python",
   "pygments_lexer": "ipython3",
   "version": "3.13.5"
  }
 },
 "nbformat": 4,
 "nbformat_minor": 5
}
