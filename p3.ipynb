{
 "cells": [
  {
   "cell_type": "code",
   "execution_count": 1,
   "id": "c725dadb",
   "metadata": {},
   "outputs": [
    {
     "ename": "TypeError",
     "evalue": "Choicelist and default value do not have a common dtype: The DType <class 'numpy.dtypes._PyLongDType'> could not be promoted by <class 'numpy.dtypes.StrDType'>. This means that no common DType exists for the given inputs. For example they cannot be stored in a single array unless the dtype is `object`. The full list of DTypes is: (<class 'numpy.dtypes.StrDType'>, <class 'numpy.dtypes.StrDType'>, <class 'numpy.dtypes.StrDType'>, <class 'numpy.dtypes._PyLongDType'>)",
     "output_type": "error",
     "traceback": [
      "\u001b[31m---------------------------------------------------------------------------\u001b[39m",
      "\u001b[31mTypeError\u001b[39m                                 Traceback (most recent call last)",
      "\u001b[36mCell\u001b[39m\u001b[36m \u001b[39m\u001b[32mIn[1]\u001b[39m\u001b[32m, line 42\u001b[39m\n\u001b[32m     40\u001b[39m conditions = [arr7 < \u001b[32m10\u001b[39m, (arr7 >= \u001b[32m10\u001b[39m) & (arr7 <= \u001b[32m20\u001b[39m), arr7 > \u001b[32m20\u001b[39m]\n\u001b[32m     41\u001b[39m choices = [\u001b[33m\"\u001b[39m\u001b[33mSmall\u001b[39m\u001b[33m\"\u001b[39m, \u001b[33m\"\u001b[39m\u001b[33mMedium\u001b[39m\u001b[33m\"\u001b[39m, \u001b[33m\"\u001b[39m\u001b[33mLarge\u001b[39m\u001b[33m\"\u001b[39m]\n\u001b[32m---> \u001b[39m\u001b[32m42\u001b[39m categories = \u001b[43mnp\u001b[49m\u001b[43m.\u001b[49m\u001b[43mselect\u001b[49m\u001b[43m(\u001b[49m\u001b[43mconditions\u001b[49m\u001b[43m,\u001b[49m\u001b[43m \u001b[49m\u001b[43mchoices\u001b[49m\u001b[43m)\u001b[49m\n\u001b[32m     44\u001b[39m \u001b[38;5;66;03m# 9. Create a 1D array of 15 random numbers\u001b[39;00m\n\u001b[32m     45\u001b[39m arr8 = np.random.randn(\u001b[32m15\u001b[39m)\n",
      "\u001b[36mFile \u001b[39m\u001b[32mc:\\Users\\Ayyappan\\AppData\\Local\\Programs\\Python\\Python313\\Lib\\site-packages\\numpy\\lib\\_function_base_impl.py:879\u001b[39m, in \u001b[36mselect\u001b[39m\u001b[34m(condlist, choicelist, default)\u001b[39m\n\u001b[32m    877\u001b[39m \u001b[38;5;28;01mexcept\u001b[39;00m \u001b[38;5;167;01mTypeError\u001b[39;00m \u001b[38;5;28;01mas\u001b[39;00m e:\n\u001b[32m    878\u001b[39m     msg = \u001b[33mf\u001b[39m\u001b[33m'\u001b[39m\u001b[33mChoicelist and default value do not have a common dtype: \u001b[39m\u001b[38;5;132;01m{\u001b[39;00me\u001b[38;5;132;01m}\u001b[39;00m\u001b[33m'\u001b[39m\n\u001b[32m--> \u001b[39m\u001b[32m879\u001b[39m     \u001b[38;5;28;01mraise\u001b[39;00m \u001b[38;5;167;01mTypeError\u001b[39;00m(msg) \u001b[38;5;28;01mfrom\u001b[39;00m\u001b[38;5;250m \u001b[39m\u001b[38;5;28;01mNone\u001b[39;00m\n\u001b[32m    881\u001b[39m \u001b[38;5;66;03m# Convert conditions to arrays and broadcast conditions and choices\u001b[39;00m\n\u001b[32m    882\u001b[39m \u001b[38;5;66;03m# as the shape is needed for the result. Doing it separately optimizes\u001b[39;00m\n\u001b[32m    883\u001b[39m \u001b[38;5;66;03m# for example when all choices are scalars.\u001b[39;00m\n\u001b[32m    884\u001b[39m condlist = np.broadcast_arrays(*condlist)\n",
      "\u001b[31mTypeError\u001b[39m: Choicelist and default value do not have a common dtype: The DType <class 'numpy.dtypes._PyLongDType'> could not be promoted by <class 'numpy.dtypes.StrDType'>. This means that no common DType exists for the given inputs. For example they cannot be stored in a single array unless the dtype is `object`. The full list of DTypes is: (<class 'numpy.dtypes.StrDType'>, <class 'numpy.dtypes.StrDType'>, <class 'numpy.dtypes.StrDType'>, <class 'numpy.dtypes._PyLongDType'>)"
     ]
    }
   ],
   "source": [
    "import numpy as np\n",
    "\n",
    "# 1. Create a NumPy array of 15 random integers between 1 and 100\n",
    "arr1 = np.random.randint(1, 101, 15)\n",
    "# a. Apply Boolean masking to select all values that are greater than 50\n",
    "greater_than_50 = arr1[arr1 > 50]\n",
    "\n",
    "# 2. Create a 1D NumPy array with 20 even numbers\n",
    "even_arr = np.arange(2, 42, 2)\n",
    "# a. Use fancy indexing to select every third element from the array\n",
    "every_third = even_arr[::3]\n",
    "\n",
    "# 3. Create a 2D NumPy array of shape (4, 4) with values ranging from 1 to 16\n",
    "arr2d = np.arange(1, 17).reshape(4, 4)\n",
    "# a. Use Boolean masking to find all elements greater than 10\n",
    "greater_than_10 = arr2d[arr2d > 10]\n",
    "\n",
    "# 4. Create a 1D NumPy array of 10 elements\n",
    "arr3 = np.random.randint(0, 10, 10)\n",
    "# a. Replace all values less than 5 with 0 using Boolean masking\n",
    "arr3[arr3 < 5] = 0\n",
    "\n",
    "# 5. Given a 2D NumPy array of shape (6, 6), use fancy indexing to select rows 1, 3, and 5\n",
    "arr4 = np.arange(36).reshape(6, 6)\n",
    "selected_rows = arr4[[1, 3, 5]]\n",
    "\n",
    "# 6. Create a 1D NumPy array of 10 random integers\n",
    "arr5 = np.random.randint(0, 100, 10)\n",
    "# a. Use np.where() to assign \"High\" to values > 50 and \"Low\" otherwise\n",
    "labels = np.where(arr5 > 50, \"High\", \"Low\")\n",
    "\n",
    "# 7. Create a 2D array of shape (3, 3) with random integers between 10 and 50\n",
    "arr6 = np.random.randint(10, 51, (3, 3))\n",
    "# a. Find the index of the maximum value using np.argmax()\n",
    "max_index = np.unravel_index(np.argmax(arr6), arr6.shape)\n",
    "\n",
    "# 8. Create a 1D array of 12 values\n",
    "arr7 = np.random.randint(0, 30, 12)\n",
    "# a. Use np.select() to assign labels based on value ranges\n",
    "conditions = [arr7 < 10, (arr7 >= 10) & (arr7 <= 20), arr7 > 20]\n",
    "choices = [\"Small\", \"Medium\", \"Large\"]\n",
    "categories = np.select(conditions, choices)\n",
    "\n",
    "# 9. Create a 1D array of 15 random numbers\n",
    "arr8 = np.random.randn(15)\n",
    "# a. Use np.any() to check if any element is negative\n",
    "any_negative = np.any(arr8 < 0)\n",
    "\n",
    "# 10. Create a 1D array of 10 values between 0 and 100\n",
    "arr9 = np.random.randint(0, 101, 10)\n",
    "# a. Use np.sort() to sort in descending order\n",
    "sorted_desc = np.sort(arr9)[::-1]\n",
    "\n",
    "# 11. Create a 2D array of shape (5, 5) filled with numbers from 1 to 25\n",
    "arr10 = np.arange(1, 26).reshape(5, 5)\n",
    "# a. Use fancy indexing to select the first 3 rows and columns 2 to 4\n",
    "subset = arr10[:3, 2:5]\n",
    "\n",
    "# 12. Create a 1D NumPy array with 10 random values between 0 and 1\n",
    "arr11 = np.random.rand(10)\n",
    "# a. Use np.searchsorted() to find index where a specific value fits\n",
    "sorted_arr11 = np.sort(arr11)\n",
    "insert_index = np.searchsorted(sorted_arr11, 0.5)\n",
    "\n",
    "# 13. Create a 1D NumPy array of 8 values\n",
    "arr12 = np.random.randint(0, 20, 8)\n",
    "# a. Find the unique values in the array using np.unique() and sort them\n",
    "unique_sorted = np.unique(arr12)\n"
   ]
  }
 ],
 "metadata": {
  "kernelspec": {
   "display_name": "Python 3",
   "language": "python",
   "name": "python3"
  },
  "language_info": {
   "codemirror_mode": {
    "name": "ipython",
    "version": 3
   },
   "file_extension": ".py",
   "mimetype": "text/x-python",
   "name": "python",
   "nbconvert_exporter": "python",
   "pygments_lexer": "ipython3",
   "version": "3.13.5"
  }
 },
 "nbformat": 4,
 "nbformat_minor": 5
}
