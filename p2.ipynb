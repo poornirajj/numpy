{
 "cells": [
  {
   "cell_type": "code",
   "execution_count": 3,
   "id": "5954ed9f",
   "metadata": {},
   "outputs": [],
   "source": [
    "import numpy as np\n",
    "prices = np.array([199, 299, 99, 150, 249, 379, 89, 199, 259, 129])"
   ]
  },
  {
   "cell_type": "code",
   "execution_count": 4,
   "id": "24b51c64",
   "metadata": {},
   "outputs": [
    {
     "name": "stdout",
     "output_type": "stream",
     "text": [
      "Selected Product Prices: [299 150 199]\n"
     ]
    }
   ],
   "source": [
    "product_indices = [1, 3, 7]\n",
    "selected_prices = prices[product_indices]\n",
    "print(\"Selected Product Prices:\", selected_prices)"
   ]
  },
  {
   "cell_type": "code",
   "execution_count": 5,
   "id": "9720558b",
   "metadata": {},
   "outputs": [
    {
     "name": "stdout",
     "output_type": "stream",
     "text": [
      "Cheap Products (below $200): [199  99 150  89 199 129]\n"
     ]
    }
   ],
   "source": [
    "cheap_mask = prices < 200\n",
    "cheap_products = prices[cheap_mask]\n",
    "print(\"Cheap Products (below $200):\", cheap_products)"
   ]
  },
  {
   "cell_type": "code",
   "execution_count": 6,
   "id": "64263d6d",
   "metadata": {},
   "outputs": [
    {
     "name": "stdout",
     "output_type": "stream",
     "text": [
      "Product Price Categories: ['Mid-range' 'Premium' 'Budget' 'Mid-range' 'Mid-range' 'Premium' 'Budget'\n",
      " 'Mid-range' 'Premium' 'Budget']\n"
     ]
    }
   ],
   "source": [
    "conditions = [prices < 150, (prices >= 150) & (prices <= 250), prices > 250]\n",
    "choices = ['Budget', 'Mid-range', 'Premium']\n",
    "price_category = np.select(conditions, choices, default=\"Unknown\")\n",
    "print(\"Product Price Categories:\", price_category)"
   ]
  },
  {
   "cell_type": "code",
   "execution_count": 7,
   "id": "48776fd8",
   "metadata": {},
   "outputs": [
    {
     "name": "stdout",
     "output_type": "stream",
     "text": [
      "Any Premium Products: True\n",
      "All products under $500: True\n"
     ]
    }
   ],
   "source": [
    "any_premium = np.any(prices > 250)\n",
    "all_under_500 = np.all(prices < 500)\n",
    "print(\"Any Premium Products:\", any_premium)\n",
    "print(\"All products under $500:\", all_under_500)"
   ]
  },
  {
   "cell_type": "code",
   "execution_count": 8,
   "id": "be7ab2ca",
   "metadata": {},
   "outputs": [
    {
     "name": "stdout",
     "output_type": "stream",
     "text": [
      "Sorted Product Prices: [ 89  99 129 150 199 199 249 259 299 379]\n"
     ]
    }
   ],
   "source": [
    "sorted_prices = np.sort(prices)\n",
    "print(\"Sorted Product Prices:\", sorted_prices)"
   ]
  },
  {
   "cell_type": "code",
   "execution_count": 9,
   "id": "01836a24",
   "metadata": {},
   "outputs": [
    {
     "name": "stdout",
     "output_type": "stream",
     "text": [
      "Sorted Indices of Products: [6 2 9 3 7 0 4 8 1 5]\n"
     ]
    }
   ],
   "source": [
    "sorted_indices = np.argsort(prices)\n",
    "print(\"Sorted Indices of Products:\", sorted_indices)"
   ]
  },
  {
   "cell_type": "code",
   "execution_count": 10,
   "id": "81c97c25",
   "metadata": {},
   "outputs": [
    {
     "ename": "_IncompleteInputError",
     "evalue": "incomplete input (4262512486.py, line 2)",
     "output_type": "error",
     "traceback": [
      "  \u001b[36mCell\u001b[39m\u001b[36m \u001b[39m\u001b[32mIn[10]\u001b[39m\u001b[32m, line 2\u001b[39m\n\u001b[31m    \u001b[39m\u001b[31mprint(\"Unique Product Prices:\", unique_prices\u001b[39m\n                                                 ^\n\u001b[31m_IncompleteInputError\u001b[39m\u001b[31m:\u001b[39m incomplete input\n"
     ]
    }
   ],
   "source": [
    "unique_prices = np.unique(prices)\n",
    "print(\"Unique Product Prices:\", unique_prices"
   ]
  }
 ],
 "metadata": {
  "kernelspec": {
   "display_name": "Python 3",
   "language": "python",
   "name": "python3"
  },
  "language_info": {
   "codemirror_mode": {
    "name": "ipython",
    "version": 3
   },
   "file_extension": ".py",
   "mimetype": "text/x-python",
   "name": "python",
   "nbconvert_exporter": "python",
   "pygments_lexer": "ipython3",
   "version": "3.13.5"
  }
 },
 "nbformat": 4,
 "nbformat_minor": 5
}
