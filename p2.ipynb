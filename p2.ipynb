{
 "cells": [
  {
   "cell_type": "code",
   "execution_count": 1,
   "id": "7ac49921",
   "metadata": {},
   "outputs": [],
   "source": [
    "import numpy as np\n"
   ]
  },
  {
   "cell_type": "code",
   "execution_count": 2,
   "id": "2b752b0c",
   "metadata": {},
   "outputs": [],
   "source": [
    "# Generate 1000 normally distributed random numbers\n",
    "data = np.random.randn(1000)\n"
   ]
  },
  {
   "cell_type": "code",
   "execution_count": 3,
   "id": "7f561efe",
   "metadata": {},
   "outputs": [
    {
     "name": "stdout",
     "output_type": "stream",
     "text": [
      "Mean of data: -0.0155485446475892\n",
      "Median of data: -0.03186672165432317\n",
      "Standard Deviation of data: 1.019285498595848\n"
     ]
    }
   ],
   "source": [
    "mean = np.mean(data)\n",
    "median = np.median(data)\n",
    "std_dev = np.std(data)\n",
    "\n",
    "print(\"Mean of data:\", mean)\n",
    "print(\"Median of data:\", median)\n",
    "print(\"Standard Deviation of data:\", std_dev)\n"
   ]
  },
  {
   "cell_type": "code",
   "execution_count": 4,
   "id": "b6acbf28",
   "metadata": {},
   "outputs": [
    {
     "name": "stdout",
     "output_type": "stream",
     "text": [
      "\n",
      "25th Percentile: -0.6777005911392211\n",
      "50th Percentile (Median): -0.03186672165432317\n",
      "75th Percentile: 0.650106607522906\n"
     ]
    }
   ],
   "source": [
    "percentile_25 = np.percentile(data, 25)\n",
    "percentile_50 = np.percentile(data, 50)  # Same as median\n",
    "percentile_75 = np.percentile(data, 75)\n",
    "\n",
    "print(\"\\n25th Percentile:\", percentile_25)\n",
    "print(\"50th Percentile (Median):\", percentile_50)\n",
    "print(\"75th Percentile:\", percentile_75)\n"
   ]
  },
  {
   "cell_type": "code",
   "execution_count": 5,
   "id": "79cbd824",
   "metadata": {},
   "outputs": [
    {
     "name": "stdout",
     "output_type": "stream",
     "text": [
      "\n",
      "Histogram counts:\n",
      " [  2   7   9  19  44  49  73  89 130 122 114 113  78  63  36  22  16   9\n",
      "   4   1]\n",
      "Bin edges:\n",
      " [-3.07458297 -2.75871981 -2.44285665 -2.12699348 -1.81113032 -1.49526716\n",
      " -1.17940399 -0.86354083 -0.54767767 -0.2318145   0.08404866  0.39991182\n",
      "  0.71577499  1.03163815  1.34750131  1.66336448  1.97922764  2.2950908\n",
      "  2.61095397  2.92681713  3.24268029]\n"
     ]
    }
   ],
   "source": [
    "# Compute histogram values\n",
    "hist, bin_edges = np.histogram(data, bins=20)\n",
    "\n",
    "print(\"\\nHistogram counts:\\n\", hist)\n",
    "print(\"Bin edges:\\n\", bin_edges)\n"
   ]
  },
  {
   "cell_type": "code",
   "execution_count": 6,
   "id": "1282bac3",
   "metadata": {},
   "outputs": [
    {
     "ename": "ModuleNotFoundError",
     "evalue": "No module named 'matplotlib'",
     "output_type": "error",
     "traceback": [
      "\u001b[31m---------------------------------------------------------------------------\u001b[39m",
      "\u001b[31mModuleNotFoundError\u001b[39m                       Traceback (most recent call last)",
      "\u001b[36mCell\u001b[39m\u001b[36m \u001b[39m\u001b[32mIn[6]\u001b[39m\u001b[32m, line 1\u001b[39m\n\u001b[32m----> \u001b[39m\u001b[32m1\u001b[39m \u001b[38;5;28;01mimport\u001b[39;00m\u001b[38;5;250m \u001b[39m\u001b[34;01mmatplotlib\u001b[39;00m\u001b[34;01m.\u001b[39;00m\u001b[34;01mpyplot\u001b[39;00m\u001b[38;5;250m \u001b[39m\u001b[38;5;28;01mas\u001b[39;00m\u001b[38;5;250m \u001b[39m\u001b[34;01mplt\u001b[39;00m\n\u001b[32m      3\u001b[39m plt.hist(data, bins=\u001b[32m20\u001b[39m, edgecolor=\u001b[33m'\u001b[39m\u001b[33mblack\u001b[39m\u001b[33m'\u001b[39m)\n\u001b[32m      4\u001b[39m plt.title(\u001b[33m\"\u001b[39m\u001b[33mHistogram of Normally Distributed Data\u001b[39m\u001b[33m\"\u001b[39m)\n",
      "\u001b[31mModuleNotFoundError\u001b[39m: No module named 'matplotlib'"
     ]
    }
   ],
   "source": [
    "import matplotlib.pyplot as plt\n",
    "\n",
    "plt.hist(data, bins=20, edgecolor='black')\n",
    "plt.title(\"Histogram of Normally Distributed Data\")\n",
    "plt.xlabel(\"Value\")\n",
    "plt.ylabel(\"Frequency\")\n",
    "plt.grid(True)\n",
    "plt.show()\n"
   ]
  },
  {
   "cell_type": "code",
   "execution_count": null,
   "id": "089434c5",
   "metadata": {},
   "outputs": [],
   "source": [
    "# Define possible outcomes (e.g., a 6-sided die)\n",
    "outcomes = np.array([1, 2, 3, 4, 5, 6])\n",
    "\n",
    "# Randomly select 10 outcomes\n",
    "random_samples = np.random.choice(outcomes, size=10)\n",
    "\n",
    "print(\"\\nRandomly selected outcomes (dice rolls):\", random_samples)\n"
   ]
  }
 ],
 "metadata": {
  "kernelspec": {
   "display_name": "Python 3",
   "language": "python",
   "name": "python3"
  },
  "language_info": {
   "codemirror_mode": {
    "name": "ipython",
    "version": 3
   },
   "file_extension": ".py",
   "mimetype": "text/x-python",
   "name": "python",
   "nbconvert_exporter": "python",
   "pygments_lexer": "ipython3",
   "version": "3.13.5"
  }
 },
 "nbformat": 4,
 "nbformat_minor": 5
}
