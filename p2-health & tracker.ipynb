{
 "cells": [
  {
   "cell_type": "code",
   "execution_count": 1,
   "id": "c0263ae5",
   "metadata": {},
   "outputs": [],
   "source": [
    "import numpy as np"
   ]
  },
  {
   "cell_type": "code",
   "execution_count": 2,
   "id": "82953715",
   "metadata": {},
   "outputs": [],
   "source": [
    "steps = np.array([6000, 8500, 4000, 10000, 7000])\n",
    "calories = np.linspace(1800, 2500, 5)\n",
    "workouts = np.ones(5)\n",
    "\n",
    "heart_rates = np.random.randn(5) * 15 + 70  # Normal distribution\n"
   ]
  },
  {
   "cell_type": "code",
   "execution_count": 3,
   "id": "f6dcbc71",
   "metadata": {},
   "outputs": [
    {
     "name": "stdout",
     "output_type": "stream",
     "text": [
      "7100.0 2150.0\n"
     ]
    }
   ],
   "source": [
    "# BMI = weight / (height^2)\n",
    "weights = np.array([70, 80, 60])\n",
    "heights = np.array([1.75, 1.80, 1.65])\n",
    "bmi = weights / (heights ** 2)\n",
    "\n",
    "# Calorie burn model\n",
    "calories_burned = np.exp(np.array([5, 6, 4, 3]))\n",
    "\n",
    "# Aggregation\n",
    "print(np.mean(steps), np.median(calories))\n"
   ]
  },
  {
   "cell_type": "code",
   "execution_count": 4,
   "id": "f309cf6b",
   "metadata": {},
   "outputs": [],
   "source": [
    "low_activity = steps < 5000\n",
    "activity_status = np.where(steps < 5000, \"Inactive\", \"Active\")\n",
    "sorted_by_cal = np.argsort(-calories)\n"
   ]
  },
  {
   "cell_type": "code",
   "execution_count": 5,
   "id": "4dda7eb4",
   "metadata": {},
   "outputs": [],
   "source": [
    "user1 = np.array([6000, 7000, 8000])\n",
    "user2 = np.array([5500, 6500, 9000])\n",
    "stacked = np.vstack((user1, user2))\n",
    "\n",
    "transposed = stacked.T\n",
    "quarters = np.array_split(steps, 4)\n"
   ]
  },
  {
   "cell_type": "code",
   "execution_count": 6,
   "id": "85a33143",
   "metadata": {},
   "outputs": [],
   "source": [
    "correlation = np.dot(steps, calories)\n",
    "cov_matrix = np.cov([steps, calories])\n",
    "percentile_top = np.percentile(steps, 90)\n",
    "hist_heart_rate = np.histogram(heart_rates, bins=[60, 70, 80, 90])\n"
   ]
  }
 ],
 "metadata": {
  "kernelspec": {
   "display_name": "Python 3",
   "language": "python",
   "name": "python3"
  },
  "language_info": {
   "codemirror_mode": {
    "name": "ipython",
    "version": 3
   },
   "file_extension": ".py",
   "mimetype": "text/x-python",
   "name": "python",
   "nbconvert_exporter": "python",
   "pygments_lexer": "ipython3",
   "version": "3.13.5"
  }
 },
 "nbformat": 4,
 "nbformat_minor": 5
}
