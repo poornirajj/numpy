{
 "cells": [
  {
   "cell_type": "code",
   "execution_count": 1,
   "id": "2d44fa7b",
   "metadata": {},
   "outputs": [
    {
     "name": "stdout",
     "output_type": "stream",
     "text": [
      "Exam Scores (10 students x 5 subjects):\n",
      " [[ 78  91  68  54  82]\n",
      " [ 47 100  60  78  97]\n",
      " [ 58  62  50  50  63]\n",
      " [ 92  75  79  63  42]\n",
      " [ 61  92  41  63  83]\n",
      " [ 69  77  41  99  60]\n",
      " [ 72  51  97  61 100]\n",
      " [ 83  64  88  66  98]\n",
      " [ 81  67  99  55  54]\n",
      " [ 86  90  83  94  91]]\n"
     ]
    }
   ],
   "source": [
    "import numpy as np\n",
    "\n",
    "np.random.seed(42)  \n",
    "scores = np.random.randint(40, 101, size=(10, 5))\n",
    "\n",
    "print(\"Exam Scores (10 students x 5 subjects):\\n\", scores)\n"
   ]
  },
  {
   "cell_type": "code",
   "execution_count": 2,
   "id": "972d5c4e",
   "metadata": {},
   "outputs": [
    {
     "name": "stdout",
     "output_type": "stream",
     "text": [
      "\n",
      "Total Scores:\n",
      " [373 382 283 351 340 346 381 399 356 444]\n",
      "\n",
      "Percentages:\n",
      " [74.6 76.4 56.6 70.2 68.  69.2 76.2 79.8 71.2 88.8]\n"
     ]
    }
   ],
   "source": [
    "\n",
    "total_scores = np.sum(scores, axis=1)\n",
    "\n",
    "\n",
    "max_score = 100 * scores.shape[1]  # 5 subjects, each out of 100\n",
    "percentages = total_scores / max_score * 100\n",
    "\n",
    "print(\"\\nTotal Scores:\\n\", total_scores)\n",
    "print(\"\\nPercentages:\\n\", percentages)\n"
   ]
  },
  {
   "cell_type": "code",
   "execution_count": 3,
   "id": "d1c612f4",
   "metadata": {},
   "outputs": [
    {
     "name": "stdout",
     "output_type": "stream",
     "text": [
      "\n",
      "Scores After Bonus:\n",
      " [[ 83  96  73  59  87]\n",
      " [ 52 100  65  83 100]\n",
      " [ 63  67  55  55  68]\n",
      " [ 97  80  84  68  47]\n",
      " [ 66  97  46  68  88]\n",
      " [ 74  82  46 100  65]\n",
      " [ 77  56 100  66 100]\n",
      " [ 88  69  93  71 100]\n",
      " [ 86  72 100  60  59]\n",
      " [ 91  95  88  99  96]]\n"
     ]
    }
   ],
   "source": [
    "# a. Add a bonus of 5 marks to every score using broadcasting\n",
    "bonus_scores = scores + 5\n",
    "bonus_scores = np.clip(bonus_scores, 0, 100)  # Ensuring max remains 100\n",
    "\n",
    "print(\"\\nScores After Bonus:\\n\", bonus_scores)\n"
   ]
  },
  {
   "cell_type": "code",
   "execution_count": 4,
   "id": "3215aa63",
   "metadata": {},
   "outputs": [
    {
     "name": "stdout",
     "output_type": "stream",
     "text": [
      "\n",
      "Performance Boost (percent^1.1):\n",
      " [114.81872243 117.86984012  84.74187604 107.39172623 103.69547468\n",
      " 105.71015361 117.53046881 123.65257948 109.07569604 139.07666321]\n",
      "\n",
      "Log Growth of Average Scores:\n",
      " [4.31214051 4.3359827  4.03600899 4.25134831 4.21950771 4.23700086\n",
      " 4.33336146 4.3795235  4.26549282 4.48638665]\n"
     ]
    }
   ],
   "source": [
    "# a. Simulate performance increase using power\n",
    "performance_boost = np.power(percentages, 1.1)\n",
    "\n",
    "# b. Logarithmic growth of average score across subjects for each student\n",
    "avg_scores = np.mean(scores, axis=1)\n",
    "log_growth = np.log(avg_scores)\n",
    "\n",
    "print(\"\\nPerformance Boost (percent^1.1):\\n\", performance_boost)\n",
    "print(\"\\nLog Growth of Average Scores:\\n\", log_growth)\n"
   ]
  },
  {
   "cell_type": "code",
   "execution_count": 5,
   "id": "a4c193a6",
   "metadata": {},
   "outputs": [
    {
     "name": "stdout",
     "output_type": "stream",
     "text": [
      "\n",
      "Subject-wise Mean Scores:\n",
      " [72.7 76.9 70.6 68.3 77. ]\n",
      "\n",
      "Subject-wise Median Scores:\n",
      " [75.  76.  73.5 63.  82.5]\n",
      "\n",
      "Best Performing Student: Student 9 with 444 marks\n",
      "Worst Performing Student: Student 2 with 283 marks\n"
     ]
    }
   ],
   "source": [
    "# a. Mean and Median score for each subject (column-wise)\n",
    "subject_means = np.mean(scores, axis=0)\n",
    "subject_medians = np.median(scores, axis=0)\n",
    "\n",
    "# b. Best (max) and worst (min) performing student based on total scores\n",
    "best_score = np.max(total_scores)\n",
    "worst_score = np.min(total_scores)\n",
    "best_student = np.argmax(total_scores)\n",
    "worst_student = np.argmin(total_scores)\n",
    "\n",
    "print(\"\\nSubject-wise Mean Scores:\\n\", subject_means)\n",
    "print(\"\\nSubject-wise Median Scores:\\n\", subject_medians)\n",
    "print(f\"\\nBest Performing Student: Student {best_student} with {best_score} marks\")\n",
    "print(f\"Worst Performing Student: Student {worst_student} with {worst_score} marks\")\n"
   ]
  }
 ],
 "metadata": {
  "kernelspec": {
   "display_name": "Python 3",
   "language": "python",
   "name": "python3"
  },
  "language_info": {
   "codemirror_mode": {
    "name": "ipython",
    "version": 3
   },
   "file_extension": ".py",
   "mimetype": "text/x-python",
   "name": "python",
   "nbconvert_exporter": "python",
   "pygments_lexer": "ipython3",
   "version": "3.13.5"
  }
 },
 "nbformat": 4,
 "nbformat_minor": 5
}
