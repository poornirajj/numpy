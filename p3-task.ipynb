{
 "cells": [
  {
   "cell_type": "code",
   "execution_count": 1,
   "id": "e7e65d0a",
   "metadata": {},
   "outputs": [],
   "source": [
    "import numpy as np"
   ]
  },
  {
   "cell_type": "markdown",
   "id": "c3965b04",
   "metadata": {},
   "source": [
    "# 1. Create a 3x3 matrix filled with zeros"
   ]
  },
  {
   "cell_type": "code",
   "execution_count": 2,
   "id": "edad91d2",
   "metadata": {},
   "outputs": [
    {
     "name": "stdout",
     "output_type": "stream",
     "text": [
      "1️⃣ 3x3 Zeros Matrix:\n",
      " [[0. 0. 0.]\n",
      " [0. 0. 0.]\n",
      " [0. 0. 0.]]\n"
     ]
    }
   ],
   "source": [
    "zeros_matrix = np.zeros((3, 3))\n",
    "print(\"1️⃣ 3x3 Zeros Matrix:\\n\", zeros_matrix)"
   ]
  },
  {
   "cell_type": "markdown",
   "id": "a04e0532",
   "metadata": {},
   "source": [
    "# 2. Create a 5x5 matrix filled with ones (dtype=float)"
   ]
  },
  {
   "cell_type": "code",
   "execution_count": 3,
   "id": "66c7fcba",
   "metadata": {},
   "outputs": [
    {
     "name": "stdout",
     "output_type": "stream",
     "text": [
      "\n",
      "2️⃣ 5x5 Ones Matrix (float):\n",
      " [[1. 1. 1. 1. 1.]\n",
      " [1. 1. 1. 1. 1.]\n",
      " [1. 1. 1. 1. 1.]\n",
      " [1. 1. 1. 1. 1.]\n",
      " [1. 1. 1. 1. 1.]]\n"
     ]
    }
   ],
   "source": [
    "ones_matrix = np.ones((5, 5), dtype=float)\n",
    "print(\"\\n2️⃣ 5x5 Ones Matrix (float):\\n\", ones_matrix)"
   ]
  },
  {
   "cell_type": "markdown",
   "id": "fb0b4b96",
   "metadata": {},
   "source": [
    "# 3. Create a 4x4 matrix filled with the number 7"
   ]
  },
  {
   "cell_type": "code",
   "execution_count": 4,
   "id": "8903b340",
   "metadata": {},
   "outputs": [
    {
     "name": "stdout",
     "output_type": "stream",
     "text": [
      "\n",
      "3️⃣ 4x4 Matrix of 7s:\n",
      " [[7 7 7 7]\n",
      " [7 7 7 7]\n",
      " [7 7 7 7]\n",
      " [7 7 7 7]]\n"
     ]
    }
   ],
   "source": [
    "sevens_matrix = np.full((4, 4), 7)\n",
    "print(\"\\n3️⃣ 4x4 Matrix of 7s:\\n\", sevens_matrix)"
   ]
  },
  {
   "cell_type": "markdown",
   "id": "b27dd7cd",
   "metadata": {},
   "source": [
    "# 4. Generate a 4x4 identity matrix"
   ]
  },
  {
   "cell_type": "code",
   "execution_count": 5,
   "id": "60a86d9e",
   "metadata": {},
   "outputs": [
    {
     "name": "stdout",
     "output_type": "stream",
     "text": [
      "\n",
      "4️⃣ 4x4 Identity Matrix:\n",
      " [[1. 0. 0. 0.]\n",
      " [0. 1. 0. 0.]\n",
      " [0. 0. 1. 0.]\n",
      " [0. 0. 0. 1.]]\n"
     ]
    }
   ],
   "source": [
    "identity_matrix = np.eye(4)\n",
    "print(\"\\n4️⃣ 4x4 Identity Matrix:\\n\", identity_matrix)"
   ]
  },
  {
   "cell_type": "markdown",
   "id": "d26324a4",
   "metadata": {},
   "source": [
    "# 5. Create 1D array from 10 to 50 with step 5"
   ]
  },
  {
   "cell_type": "code",
   "execution_count": 6,
   "id": "955e858f",
   "metadata": {},
   "outputs": [
    {
     "name": "stdout",
     "output_type": "stream",
     "text": [
      "\n",
      "5️⃣ 1D Array (10 to 50, step 5):\n",
      " [10 15 20 25 30 35 40 45 50]\n"
     ]
    }
   ],
   "source": [
    "step_array = np.arange(10, 51, 5)\n",
    "print(\"\\n5️⃣ 1D Array (10 to 50, step 5):\\n\", step_array)"
   ]
  },
  {
   "cell_type": "markdown",
   "id": "8e7c8feb",
   "metadata": {},
   "source": [
    "# 6. Create 1D array of 100 equally spaced numbers between 0 and 1"
   ]
  },
  {
   "cell_type": "code",
   "execution_count": 7,
   "id": "96c86b15",
   "metadata": {},
   "outputs": [
    {
     "name": "stdout",
     "output_type": "stream",
     "text": [
      "\n",
      "6️⃣ 1D Array of 100 values (0 to 1):\n",
      " [0.         0.01010101 0.02020202 0.03030303 0.04040404 0.05050505\n",
      " 0.06060606 0.07070707 0.08080808 0.09090909 0.1010101  0.11111111\n",
      " 0.12121212 0.13131313 0.14141414 0.15151515 0.16161616 0.17171717\n",
      " 0.18181818 0.19191919 0.2020202  0.21212121 0.22222222 0.23232323\n",
      " 0.24242424 0.25252525 0.26262626 0.27272727 0.28282828 0.29292929\n",
      " 0.3030303  0.31313131 0.32323232 0.33333333 0.34343434 0.35353535\n",
      " 0.36363636 0.37373737 0.38383838 0.39393939 0.4040404  0.41414141\n",
      " 0.42424242 0.43434343 0.44444444 0.45454545 0.46464646 0.47474747\n",
      " 0.48484848 0.49494949 0.50505051 0.51515152 0.52525253 0.53535354\n",
      " 0.54545455 0.55555556 0.56565657 0.57575758 0.58585859 0.5959596\n",
      " 0.60606061 0.61616162 0.62626263 0.63636364 0.64646465 0.65656566\n",
      " 0.66666667 0.67676768 0.68686869 0.6969697  0.70707071 0.71717172\n",
      " 0.72727273 0.73737374 0.74747475 0.75757576 0.76767677 0.77777778\n",
      " 0.78787879 0.7979798  0.80808081 0.81818182 0.82828283 0.83838384\n",
      " 0.84848485 0.85858586 0.86868687 0.87878788 0.88888889 0.8989899\n",
      " 0.90909091 0.91919192 0.92929293 0.93939394 0.94949495 0.95959596\n",
      " 0.96969697 0.97979798 0.98989899 1.        ]\n"
     ]
    }
   ],
   "source": [
    "linspace_array = np.linspace(0, 1, 100)\n",
    "print(\"\\n6️⃣ 1D Array of 100 values (0 to 1):\\n\", linspace_array)"
   ]
  },
  {
   "cell_type": "markdown",
   "id": "175c2d02",
   "metadata": {},
   "source": [
    "# 7. Generate a 3x3 matrix of random floats (0 to 1)"
   ]
  },
  {
   "cell_type": "code",
   "execution_count": 8,
   "id": "e97ecfcf",
   "metadata": {},
   "outputs": [
    {
     "name": "stdout",
     "output_type": "stream",
     "text": [
      "\n",
      "7️⃣ 3x3 Random Float Matrix (0 to 1):\n",
      " [[0.8467123  0.89148302 0.02667919]\n",
      " [0.99825384 0.04395141 0.49821961]\n",
      " [0.01788637 0.4363889  0.04256645]]\n"
     ]
    }
   ],
   "source": [
    "random_float_matrix = np.random.rand(3, 3)\n",
    "print(\"\\n7️⃣ 3x3 Random Float Matrix (0 to 1):\\n\", random_float_matrix)\n"
   ]
  },
  {
   "cell_type": "markdown",
   "id": "2c50628b",
   "metadata": {},
   "source": [
    "# 8. Generate a 3x3 matrix from standard normal distribution"
   ]
  },
  {
   "cell_type": "code",
   "execution_count": 9,
   "id": "7a554750",
   "metadata": {},
   "outputs": [
    {
     "name": "stdout",
     "output_type": "stream",
     "text": [
      "\n",
      "8️⃣ 3x3 Standard Normal Matrix:\n",
      " [[-0.08701649 -1.31433076 -0.17638762]\n",
      " [-0.20829081 -0.18572173 -1.78220018]\n",
      " [-0.40525149 -1.00726185  0.59414878]]\n"
     ]
    }
   ],
   "source": [
    "standard_normal_matrix = np.random.randn(3, 3)\n",
    "print(\"\\n8️⃣ 3x3 Standard Normal Matrix:\\n\", standard_normal_matrix)"
   ]
  },
  {
   "cell_type": "markdown",
   "id": "d2fb719a",
   "metadata": {},
   "source": [
    "# 9. Create a 3x3 matrix of random integers (10 to 50)"
   ]
  },
  {
   "cell_type": "code",
   "execution_count": 10,
   "id": "3576c5ec",
   "metadata": {},
   "outputs": [
    {
     "name": "stdout",
     "output_type": "stream",
     "text": [
      "\n",
      "9️⃣ 3x3 Random Integer Matrix (10 to 50):\n",
      " [[29 33 11]\n",
      " [38 32 20]\n",
      " [39 12 21]]\n"
     ]
    }
   ],
   "source": [
    "random_int_matrix = np.random.randint(10, 51, size=(3, 3))\n",
    "print(\"\\n9️⃣ 3x3 Random Integer Matrix (10 to 50):\\n\", random_int_matrix)"
   ]
  },
  {
   "cell_type": "markdown",
   "id": "0c48c4c2",
   "metadata": {},
   "source": [
    "# 10. Reshape a 1D array of size 12 into a 3x4 matrix"
   ]
  },
  {
   "cell_type": "code",
   "execution_count": 11,
   "id": "d5840d5b",
   "metadata": {},
   "outputs": [
    {
     "name": "stdout",
     "output_type": "stream",
     "text": [
      "\n",
      "🔟 Reshaped 1D Array (3x4):\n",
      " [[ 0  1  2  3]\n",
      " [ 4  5  6  7]\n",
      " [ 8  9 10 11]]\n"
     ]
    }
   ],
   "source": [
    "array_1d = np.arange(12)\n",
    "reshaped_matrix = array_1d.reshape(3, 4)\n",
    "print(\"\\n🔟 Reshaped 1D Array (3x4):\\n\", reshaped_matrix)"
   ]
  },
  {
   "cell_type": "markdown",
   "id": "88727991",
   "metadata": {},
   "source": [
    "# 11. Flatten a 3x3 matrix using ravel() and flatten()"
   ]
  },
  {
   "cell_type": "code",
   "execution_count": 12,
   "id": "d7111abd",
   "metadata": {},
   "outputs": [
    {
     "name": "stdout",
     "output_type": "stream",
     "text": [
      "\n",
      "1️⃣1️⃣ Flattened using ravel(): [1 2 3 4 5 6 7 8 9]\n",
      "Flattened using flatten(): [1 2 3 4 5 6 7 8 9]\n"
     ]
    }
   ],
   "source": [
    "original_matrix = np.array([[1, 2, 3], [4, 5, 6], [7, 8, 9]])\n",
    "raveled = original_matrix.ravel()\n",
    "flattened = original_matrix.flatten()\n",
    "print(\"\\n1️⃣1️⃣ Flattened using ravel():\", raveled)\n",
    "print(\"Flattened using flatten():\", flattened)"
   ]
  },
  {
   "cell_type": "markdown",
   "id": "322c1f6f",
   "metadata": {},
   "source": [
    "# 12. Clone an array using copy() and verify independence"
   ]
  },
  {
   "cell_type": "code",
   "execution_count": 13,
   "id": "5a21cf4d",
   "metadata": {},
   "outputs": [
    {
     "name": "stdout",
     "output_type": "stream",
     "text": [
      "\n",
      "1️⃣2️⃣ Original after modification: [99  2  3]\n",
      "Cloned (unchanged): [1 2 3]\n"
     ]
    }
   ],
   "source": [
    "original_array = np.array([1, 2, 3])\n",
    "cloned_array = original_array.copy()\n",
    "original_array[0] = 99\n",
    "print(\"\\n1️⃣2️⃣ Original after modification:\", original_array)\n",
    "print(\"Cloned (unchanged):\", cloned_array)"
   ]
  },
  {
   "cell_type": "markdown",
   "id": "f704debc",
   "metadata": {},
   "source": [
    "# 13. Slice a 3x3 matrix to extract the second row"
   ]
  },
  {
   "cell_type": "code",
   "execution_count": 14,
   "id": "0aca2115",
   "metadata": {},
   "outputs": [
    {
     "name": "stdout",
     "output_type": "stream",
     "text": [
      "\n",
      "1️⃣3️⃣ Second Row of 3x3 Matrix: [21 22 23]\n"
     ]
    }
   ],
   "source": [
    "matrix_3x3 = np.array([[11, 12, 13], [21, 22, 23], [31, 32, 33]])\n",
    "second_row = matrix_3x3[1]\n",
    "print(\"\\n1️⃣3️⃣ Second Row of 3x3 Matrix:\", second_row)"
   ]
  }
 ],
 "metadata": {
  "kernelspec": {
   "display_name": "Python 3",
   "language": "python",
   "name": "python3"
  },
  "language_info": {
   "codemirror_mode": {
    "name": "ipython",
    "version": 3
   },
   "file_extension": ".py",
   "mimetype": "text/x-python",
   "name": "python",
   "nbconvert_exporter": "python",
   "pygments_lexer": "ipython3",
   "version": "3.13.5"
  }
 },
 "nbformat": 4,
 "nbformat_minor": 5
}
