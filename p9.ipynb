{
 "cells": [
  {
   "cell_type": "code",
   "execution_count": 1,
   "id": "4225769b",
   "metadata": {},
   "outputs": [
    {
     "name": "stdout",
     "output_type": "stream",
     "text": [
      "Image 1 (5x5):\n",
      " [[ 57 230 248  21 102]\n",
      " [ 93  19  42 243 122]\n",
      " [ 10 187  21  78 111]\n",
      " [193  53  65  67  91]\n",
      " [ 77 242 214 222 104]]\n",
      "\n",
      "Image 2 (5x5):\n",
      " [[191  63  34 156  48]\n",
      " [107  50 206 158  30]\n",
      " [ 41  74 227  54  22]\n",
      " [247  74  90  93  16]\n",
      " [  7 225  94  34 245]]\n",
      "\n",
      "Stacked Image Vertically (10x5):\n",
      " [[ 57 230 248  21 102]\n",
      " [ 93  19  42 243 122]\n",
      " [ 10 187  21  78 111]\n",
      " [193  53  65  67  91]\n",
      " [ 77 242 214 222 104]\n",
      " [191  63  34 156  48]\n",
      " [107  50 206 158  30]\n",
      " [ 41  74 227  54  22]\n",
      " [247  74  90  93  16]\n",
      " [  7 225  94  34 245]]\n",
      "\n",
      "Stacked Image Horizontally (5x10):\n",
      " [[ 57 230 248  21 102 191  63  34 156  48]\n",
      " [ 93  19  42 243 122 107  50 206 158  30]\n",
      " [ 10 187  21  78 111  41  74 227  54  22]\n",
      " [193  53  65  67  91 247  74  90  93  16]\n",
      " [ 77 242 214 222 104   7 225  94  34 245]]\n",
      "\n",
      "Split Vertical Stacked Image into 2 parts:\n",
      "\n",
      "Part 1 (5x5):\n",
      " [[ 57 230 248  21 102]\n",
      " [ 93  19  42 243 122]\n",
      " [ 10 187  21  78 111]\n",
      " [193  53  65  67  91]\n",
      " [ 77 242 214 222 104]]\n",
      "\n",
      "Part 2 (5x5):\n",
      " [[191  63  34 156  48]\n",
      " [107  50 206 158  30]\n",
      " [ 41  74 227  54  22]\n",
      " [247  74  90  93  16]\n",
      " [  7 225  94  34 245]]\n"
     ]
    }
   ],
   "source": [
    "import numpy as np\n",
    "\n",
    "# Step 1: Create two 2D arrays (representing grayscale images)\n",
    "image1 = np.random.randint(0, 256, (5, 5))  # Image 1: 5x5 pixels\n",
    "image2 = np.random.randint(0, 256, (5, 5))  # Image 2: 5x5 pixels\n",
    "\n",
    "print(\"Image 1 (5x5):\\n\", image1)\n",
    "print(\"\\nImage 2 (5x5):\\n\", image2)\n",
    "\n",
    "# Step 2: Perform vertical stacking (vstack)\n",
    "stacked_vertical = np.vstack((image1, image2))  # Resulting shape: (10, 5)\n",
    "print(\"\\nStacked Image Vertically (10x5):\\n\", stacked_vertical)\n",
    "\n",
    "# Step 3: Perform horizontal stacking (hstack)\n",
    "stacked_horizontal = np.hstack((image1, image2))  # Resulting shape: (5, 10)\n",
    "print(\"\\nStacked Image Horizontally (5x10):\\n\", stacked_horizontal)\n",
    "\n",
    "# Step 4: Split the vertically stacked image into smaller parts\n",
    "# Splitting it into 2 equal parts along the first axis\n",
    "split_vertical = np.split(stacked_vertical, 2)\n",
    "\n",
    "print(\"\\nSplit Vertical Stacked Image into 2 parts:\")\n",
    "for i, part in enumerate(split_vertical):\n",
    "    print(f\"\\nPart {i+1} (5x5):\\n\", part)\n"
   ]
  }
 ],
 "metadata": {
  "kernelspec": {
   "display_name": "Python 3",
   "language": "python",
   "name": "python3"
  },
  "language_info": {
   "codemirror_mode": {
    "name": "ipython",
    "version": 3
   },
   "file_extension": ".py",
   "mimetype": "text/x-python",
   "name": "python",
   "nbconvert_exporter": "python",
   "pygments_lexer": "ipython3",
   "version": "3.13.5"
  }
 },
 "nbformat": 4,
 "nbformat_minor": 5
}
