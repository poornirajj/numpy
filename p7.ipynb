{
 "cells": [
  {
   "cell_type": "code",
   "execution_count": 1,
   "id": "61d97c83",
   "metadata": {},
   "outputs": [
    {
     "name": "stdout",
     "output_type": "stream",
     "text": [
      "Math Grades:\n",
      " [[84 86 87 86]\n",
      " [98 50 84 91]\n",
      " [61 86 73 90]\n",
      " [66 84 59 86]\n",
      " [52 51 78 78]\n",
      " [53 60 54 91]]\n",
      "Science Grades:\n",
      " [[ 53  56  91  78]\n",
      " [ 71  76  96  60]\n",
      " [ 88  80  83  70]\n",
      " [ 67  53 100  54]\n",
      " [ 85  85  83  53]\n",
      " [100  92  78  70]]\n",
      "English Grades:\n",
      " [[92 74 93 77]\n",
      " [62 56 75 84]\n",
      " [81 99 74 74]\n",
      " [63 73 51 89]\n",
      " [97 85 60 57]\n",
      " [96 97 55 66]]\n",
      "Shape after swapping terms and subjects: (6, 3, 4)\n",
      "3rd Student's Science Grades for All Terms: [88 80 83 70]\n"
     ]
    }
   ],
   "source": [
    "import numpy as np\n",
    "\n",
    "# 1. Create a 3D array of shape (6 students, 4 terms, 3 subjects)\n",
    "grades = np.random.randint(50, 101, (6, 4, 3))  # Random grades between 50 and 100\n",
    "\n",
    "# 2. Vertically stack grades of student 0 and student 1\n",
    "student0 = grades[0]  # shape (4, 3)\n",
    "student1 = grades[1]  # shape (4, 3)\n",
    "vstack_students = np.vstack((student0, student1))  # shape (8, 3)\n",
    "\n",
    "# 3. Transpose: swap axes to make terms the first axis and students last\n",
    "transposed_grades = np.transpose(grades, (1, 2, 0))  # shape: (4 terms, 3 subjects, 6 students)\n",
    "\n",
    "# 4. Split the grades array by subjects\n",
    "# axis=2 is subjects, so split into 3 parts\n",
    "subject_splits = np.dsplit(grades, 3)\n",
    "subjects = [\"Math\", \"Science\", \"English\"]\n",
    "for i, subject_data in enumerate(subject_splits):\n",
    "    print(f\"{subjects[i]} Grades:\\n\", subject_data[:, :, 0])  # For display, remove extra dimension\n",
    "\n",
    "# 5. Swap axes: Swap terms (axis=1) and subjects (axis=2)\n",
    "swapped_grades = np.swapaxes(grades, 1, 2)  # shape becomes (6, 3, 4)\n",
    "print(\"Shape after swapping terms and subjects:\", swapped_grades.shape)\n",
    "\n",
    "# 6. Extract grades for 3rd student (index 2) in Science (subject index 1) for all terms\n",
    "student3_science_grades = grades[2, :, 1]\n",
    "print(\"3rd Student's Science Grades for All Terms:\", student3_science_grades)\n"
   ]
  }
 ],
 "metadata": {
  "kernelspec": {
   "display_name": "Python 3",
   "language": "python",
   "name": "python3"
  },
  "language_info": {
   "codemirror_mode": {
    "name": "ipython",
    "version": 3
   },
   "file_extension": ".py",
   "mimetype": "text/x-python",
   "name": "python",
   "nbconvert_exporter": "python",
   "pygments_lexer": "ipython3",
   "version": "3.13.5"
  }
 },
 "nbformat": 4,
 "nbformat_minor": 5
}
