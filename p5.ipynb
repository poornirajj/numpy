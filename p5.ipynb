{
 "cells": [
  {
   "cell_type": "code",
   "execution_count": 3,
   "id": "3e9a3a45",
   "metadata": {},
   "outputs": [
    {
     "ename": "TypeError",
     "evalue": "Choicelist and default value do not have a common dtype: The DType <class 'numpy.dtypes._PyLongDType'> could not be promoted by <class 'numpy.dtypes.StrDType'>. This means that no common DType exists for the given inputs. For example they cannot be stored in a single array unless the dtype is `object`. The full list of DTypes is: (<class 'numpy.dtypes.StrDType'>, <class 'numpy.dtypes.StrDType'>, <class 'numpy.dtypes.StrDType'>, <class 'numpy.dtypes._PyLongDType'>)",
     "output_type": "error",
     "traceback": [
      "\u001b[31m---------------------------------------------------------------------------\u001b[39m",
      "\u001b[31mTypeError\u001b[39m                                 Traceback (most recent call last)",
      "\u001b[36mCell\u001b[39m\u001b[36m \u001b[39m\u001b[32mIn[3]\u001b[39m\u001b[32m, line 17\u001b[39m\n\u001b[32m     11\u001b[39m conditions = [\n\u001b[32m     12\u001b[39m     (ratings >= \u001b[32m1\u001b[39m) & (ratings <= \u001b[32m2\u001b[39m),\n\u001b[32m     13\u001b[39m     ratings == \u001b[32m3\u001b[39m,\n\u001b[32m     14\u001b[39m     ratings >= \u001b[32m4\u001b[39m\n\u001b[32m     15\u001b[39m ]\n\u001b[32m     16\u001b[39m choices = [\u001b[33m\"\u001b[39m\u001b[33mLow Rating\u001b[39m\u001b[33m\"\u001b[39m, \u001b[33m\"\u001b[39m\u001b[33mMedium Rating\u001b[39m\u001b[33m\"\u001b[39m, \u001b[33m\"\u001b[39m\u001b[33mHigh Rating\u001b[39m\u001b[33m\"\u001b[39m]\n\u001b[32m---> \u001b[39m\u001b[32m17\u001b[39m categories = \u001b[43mnp\u001b[49m\u001b[43m.\u001b[49m\u001b[43mselect\u001b[49m\u001b[43m(\u001b[49m\u001b[43mconditions\u001b[49m\u001b[43m,\u001b[49m\u001b[43m \u001b[49m\u001b[43mchoices\u001b[49m\u001b[43m)\u001b[49m\n\u001b[32m     19\u001b[39m \u001b[38;5;66;03m# 4. Find the index of the highest-rated product using np.argmax()\u001b[39;00m\n\u001b[32m     20\u001b[39m highest_rating_index = np.argmax(ratings)\n",
      "\u001b[36mFile \u001b[39m\u001b[32mc:\\Users\\Ayyappan\\AppData\\Local\\Programs\\Python\\Python313\\Lib\\site-packages\\numpy\\lib\\_function_base_impl.py:879\u001b[39m, in \u001b[36mselect\u001b[39m\u001b[34m(condlist, choicelist, default)\u001b[39m\n\u001b[32m    877\u001b[39m \u001b[38;5;28;01mexcept\u001b[39;00m \u001b[38;5;167;01mTypeError\u001b[39;00m \u001b[38;5;28;01mas\u001b[39;00m e:\n\u001b[32m    878\u001b[39m     msg = \u001b[33mf\u001b[39m\u001b[33m'\u001b[39m\u001b[33mChoicelist and default value do not have a common dtype: \u001b[39m\u001b[38;5;132;01m{\u001b[39;00me\u001b[38;5;132;01m}\u001b[39;00m\u001b[33m'\u001b[39m\n\u001b[32m--> \u001b[39m\u001b[32m879\u001b[39m     \u001b[38;5;28;01mraise\u001b[39;00m \u001b[38;5;167;01mTypeError\u001b[39;00m(msg) \u001b[38;5;28;01mfrom\u001b[39;00m\u001b[38;5;250m \u001b[39m\u001b[38;5;28;01mNone\u001b[39;00m\n\u001b[32m    881\u001b[39m \u001b[38;5;66;03m# Convert conditions to arrays and broadcast conditions and choices\u001b[39;00m\n\u001b[32m    882\u001b[39m \u001b[38;5;66;03m# as the shape is needed for the result. Doing it separately optimizes\u001b[39;00m\n\u001b[32m    883\u001b[39m \u001b[38;5;66;03m# for example when all choices are scalars.\u001b[39;00m\n\u001b[32m    884\u001b[39m condlist = np.broadcast_arrays(*condlist)\n",
      "\u001b[31mTypeError\u001b[39m: Choicelist and default value do not have a common dtype: The DType <class 'numpy.dtypes._PyLongDType'> could not be promoted by <class 'numpy.dtypes.StrDType'>. This means that no common DType exists for the given inputs. For example they cannot be stored in a single array unless the dtype is `object`. The full list of DTypes is: (<class 'numpy.dtypes.StrDType'>, <class 'numpy.dtypes.StrDType'>, <class 'numpy.dtypes.StrDType'>, <class 'numpy.dtypes._PyLongDType'>)"
     ]
    }
   ],
   "source": [
    "import numpy as np\n",
    "\n",
    "# 1. Create a 1D NumPy array of 50 random ratings between 1 and 5\n",
    "ratings = np.random.randint(1, 6, 50) \n",
    " # integers from 1 to 5 inclusive\n",
    "\n",
    "# 2. Use Boolean masking to find all products with ratings > 3 (high-rated)\n",
    "high_rated = ratings[ratings > 3]\n",
    "\n",
    "# 3. Use np.select() to categorize the ratings\n",
    "conditions = [\n",
    "    (ratings >= 1) & (ratings <= 2),\n",
    "    ratings == 3,\n",
    "    ratings >= 4\n",
    "]\n",
    "choices = [\"Low Rating\", \"Medium Rating\", \"High Rating\"]\n",
    "categories = np.select(conditions, choices)\n",
    "\n",
    "# 4. Find the index of the highest-rated product using np.argmax()\n",
    "highest_rating_index = np.argmax(ratings)\n",
    "highest_rating_value = ratings[highest_rating_index]\n",
    "\n",
    "# 5. Sort the ratings array in descending order\n",
    "sorted_desc_ratings = np.sort(ratings)[::-1]\n",
    "\n",
    "# 6. Check if any product has a rating of 1 using np.any()\n",
    "has_rating_one = np.any(ratings == 1)\n",
    "\n",
    "# 7. Use fancy indexing to select the last 10 ratings\n",
    "last_10_ratings = ratings[-10:]\n",
    "\n",
    "# 8. Use np.searchsorted() to find where rating 3.5 would fit in sorted array\n",
    "# (Insert in ascending sorted array)\n",
    "insert_position_3_5_\n"
   ]
  }
 ],
 "metadata": {
  "kernelspec": {
   "display_name": "Python 3",
   "language": "python",
   "name": "python3"
  },
  "language_info": {
   "codemirror_mode": {
    "name": "ipython",
    "version": 3
   },
   "file_extension": ".py",
   "mimetype": "text/x-python",
   "name": "python",
   "nbconvert_exporter": "python",
   "pygments_lexer": "ipython3",
   "version": "3.13.5"
  }
 },
 "nbformat": 4,
 "nbformat_minor": 5
}
