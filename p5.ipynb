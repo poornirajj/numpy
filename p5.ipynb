{
 "cells": [
  {
   "cell_type": "code",
   "execution_count": 1,
   "id": "64de5ecc",
   "metadata": {},
   "outputs": [
    {
     "ename": "ModuleNotFoundError",
     "evalue": "No module named 'matplotlib'",
     "output_type": "error",
     "traceback": [
      "\u001b[31m---------------------------------------------------------------------------\u001b[39m",
      "\u001b[31mModuleNotFoundError\u001b[39m                       Traceback (most recent call last)",
      "\u001b[36mCell\u001b[39m\u001b[36m \u001b[39m\u001b[32mIn[1]\u001b[39m\u001b[32m, line 2\u001b[39m\n\u001b[32m      1\u001b[39m \u001b[38;5;28;01mimport\u001b[39;00m\u001b[38;5;250m \u001b[39m\u001b[34;01mnumpy\u001b[39;00m\u001b[38;5;250m \u001b[39m\u001b[38;5;28;01mas\u001b[39;00m\u001b[38;5;250m \u001b[39m\u001b[34;01mnp\u001b[39;00m\n\u001b[32m----> \u001b[39m\u001b[32m2\u001b[39m \u001b[38;5;28;01mimport\u001b[39;00m\u001b[38;5;250m \u001b[39m\u001b[34;01mmatplotlib\u001b[39;00m\u001b[34;01m.\u001b[39;00m\u001b[34;01mpyplot\u001b[39;00m\u001b[38;5;250m \u001b[39m\u001b[38;5;28;01mas\u001b[39;00m\u001b[38;5;250m \u001b[39m\u001b[34;01mplt\u001b[39;00m\n\u001b[32m      4\u001b[39m \u001b[38;5;66;03m# Step 1: Generate a random dataset of 1000 values from standard normal distribution\u001b[39;00m\n\u001b[32m      5\u001b[39m data = np.random.randn(\u001b[32m1000\u001b[39m)  \u001b[38;5;66;03m# Mean = 0, Std Dev = 1 by default\u001b[39;00m\n",
      "\u001b[31mModuleNotFoundError\u001b[39m: No module named 'matplotlib'"
     ]
    }
   ],
   "source": [
    "import numpy as np\n",
    "import matplotlib.pyplot as plt\n",
    "\n",
    "# Step 1: Generate a random dataset of 1000 values from standard normal distribution\n",
    "data = np.random.randn(1000)  # Mean = 0, Std Dev = 1 by default\n",
    "print(\"First 10 values of the dataset:\\n\", data[:10])\n"
   ]
  },
  {
   "cell_type": "code",
   "execution_count": null,
   "id": "58ab1b49",
   "metadata": {},
   "outputs": [],
   "source": [
    "# a. Mean, Std Dev, Variance\n",
    "mean = np.mean(data)\n",
    "std_dev = np.std(data)\n",
    "variance = np.var(data)\n",
    "\n",
    "print(\"\\n--- Statistical Metrics ---\")\n",
    "print(\"Mean:\", mean)\n",
    "print(\"Standard Deviation:\", std_dev)\n",
    "print(\"Variance:\", variance)\n",
    "\n",
    "# b. Percentiles\n",
    "p25 = np.percentile(data, 25)\n",
    "p50 = np.percentile(data, 50)  # Median\n",
    "p75 = np.percentile(data, 75)\n",
    "\n",
    "print(\"\\n--- Percentiles ---\")\n",
    "print(\"25th Percentile:\", p25)\n",
    "print(\"50th Percentile (Median):\", p50)\n",
    "print(\"75th Percentile:\", p75)\n"
   ]
  },
  {
   "cell_type": "code",
   "execution_count": null,
   "id": "dcef36f1",
   "metadata": {},
   "outputs": [],
   "source": [
    "# Compute histogram data (not the plot yet)\n",
    "hist_values, bin_edges = np.histogram(data, bins=20)\n",
    "\n",
    "print(\"\\n--- Histogram Data ---\")\n",
    "print(\"Bin Counts:\", hist_values)\n",
    "print(\"Bin Edges:\", bin_edges)\n",
    "\n",
    "# Plotting the histogram\n",
    "plt.figure(figsize=(8, 5))\n",
    "plt.hist(data, bins=20, edgecolor='black', color='skyblue')\n",
    "plt.title(\"Histogram of Normally Distributed Data\")\n",
    "plt.xlabel(\"Value\")\n",
    "plt.ylabel(\"Frequency\")\n",
    "plt.grid(True)\n",
    "plt.tight_layout()\n",
    "plt.show()\n"
   ]
  },
  {
   "cell_type": "code",
   "execution_count": null,
   "id": "d539160f",
   "metadata": {},
   "outputs": [],
   "source": [
    "# Randomly select 100 values from the dataset\n",
    "sample = np.random.choice(data, size=100, replace=False)\n",
    "\n",
    "sample_mean = np.mean(sample)\n",
    "sample_std = np.std(sample)\n",
    "\n",
    "print(\"\\n--- Sample Analysis (100 Random Values) ---\")\n",
    "print(\"Sample Mean:\", sample_mean)\n",
    "print(\"Sample Std Dev:\", sample_std)\n"
   ]
  }
 ],
 "metadata": {
  "kernelspec": {
   "display_name": "Python 3",
   "language": "python",
   "name": "python3"
  },
  "language_info": {
   "codemirror_mode": {
    "name": "ipython",
    "version": 3
   },
   "file_extension": ".py",
   "mimetype": "text/x-python",
   "name": "python",
   "nbconvert_exporter": "python",
   "pygments_lexer": "ipython3",
   "version": "3.13.5"
  }
 },
 "nbformat": 4,
 "nbformat_minor": 5
}
