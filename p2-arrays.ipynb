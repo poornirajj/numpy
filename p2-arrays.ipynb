{
 "cells": [
  {
   "cell_type": "markdown",
   "id": "7c000230",
   "metadata": {},
   "source": [
    "# Import NumPy"
   ]
  },
  {
   "cell_type": "code",
   "execution_count": 9,
   "id": "2a2c3f27",
   "metadata": {},
   "outputs": [],
   "source": [
    "import numpy as np"
   ]
  },
  {
   "cell_type": "markdown",
   "id": "32afacef",
   "metadata": {},
   "source": [
    "# Create an Array of Temperatures Using np.ones()"
   ]
  },
  {
   "cell_type": "code",
   "execution_count": 10,
   "id": "3a007a4b",
   "metadata": {},
   "outputs": [
    {
     "name": "stdout",
     "output_type": "stream",
     "text": [
      "[[25 25 25 25 25 25 25 25 25 25 25 25 25 25 25 25 25 25 25 25 25 25 25 25\n",
      "  25 25 25 25 25 25]\n",
      " [25 25 25 25 25 25 25 25 25 25 25 25 25 25 25 25 25 25 25 25 25 25 25 25\n",
      "  25 25 25 25 25 25]\n",
      " [25 25 25 25 25 25 25 25 25 25 25 25 25 25 25 25 25 25 25 25 25 25 25 25\n",
      "  25 25 25 25 25 25]\n",
      " [25 25 25 25 25 25 25 25 25 25 25 25 25 25 25 25 25 25 25 25 25 25 25 25\n",
      "  25 25 25 25 25 25]\n",
      " [25 25 25 25 25 25 25 25 25 25 25 25 25 25 25 25 25 25 25 25 25 25 25 25\n",
      "  25 25 25 25 25 25]]\n"
     ]
    }
   ],
   "source": [
    "temperature_data = np.ones((5, 30), dtype=int) * 25\n",
    "print(temperature_data)"
   ]
  },
  {
   "cell_type": "markdown",
   "id": "9ccef312",
   "metadata": {},
   "source": [
    "# Modify Data Using np.full()"
   ]
  },
  {
   "cell_type": "code",
   "execution_count": 11,
   "id": "ccd24444",
   "metadata": {},
   "outputs": [
    {
     "name": "stdout",
     "output_type": "stream",
     "text": [
      "[[20 32 20 29 34 20 26 31 31 22 34 21 32 29 24 27 24 28 20 30 33 32 32 34\n",
      "  31 34 27 22 26 34]\n",
      " [11 17 14 18 13 19 13 12 13 13 19 16 10 13 15 19 17 13 18 14 10 11 18 19\n",
      "  14 12 13 13 18 10]\n",
      " [25 25 25 25 25 25 25 25 25 25 25 25 25 25 25 25 25 25 25 25 25 25 25 25\n",
      "  25 25 25 25 25 25]\n",
      " [25 25 25 25 25 25 25 25 25 25 25 25 25 25 25 25 25 25 25 25 25 25 25 25\n",
      "  25 25 25 25 25 25]\n",
      " [25 25 25 25 25 25 25 25 25 25 25 25 25 25 25 25 25 25 25 25 25 25 25 25\n",
      "  25 25 25 25 25 25]]\n"
     ]
    }
   ],
   "source": [
    "temperature_data = np.full((5, 30), 25)\n",
    "temperature_data[0] = np.random.randint(20, 35, size=30) # City 1 temperatures\n",
    "temperature_data[1] = np.random.randint(10, 20, size=30) # City 2 temperatures\n",
    "print(temperature_data)"
   ]
  },
  {
   "cell_type": "markdown",
   "id": "c0382b35",
   "metadata": {},
   "source": [
    "# Reshape the Data"
   ]
  },
  {
   "cell_type": "code",
   "execution_count": 12,
   "id": "621ce937",
   "metadata": {},
   "outputs": [
    {
     "name": "stdout",
     "output_type": "stream",
     "text": [
      "[[24 34 25 40 22]\n",
      " [36 38 27 32 39]\n",
      " [28 29 21 26 23]\n",
      " [35 20 29 22 20]\n",
      " [28 37 28 32 34]\n",
      " [28 22 33 20 23]\n",
      " [34 31 26 27 26]\n",
      " [28 36 34 34 34]\n",
      " [23 38 22 34 38]\n",
      " [34 27 24 28 40]\n",
      " [32 22 26 37 40]\n",
      " [39 38 31 26 32]\n",
      " [31 20 38 24 35]\n",
      " [32 36 24 27 25]\n",
      " [36 25 22 32 30]\n",
      " [29 28 29 33 38]\n",
      " [25 24 22 23 20]\n",
      " [21 33 21 26 34]\n",
      " [32 27 36 26 20]\n",
      " [28 24 28 26 28]\n",
      " [27 37 34 22 34]\n",
      " [21 40 40 40 28]\n",
      " [29 35 36 21 21]\n",
      " [25 30 35 35 21]\n",
      " [26 39 32 40 26]\n",
      " [22 35 27 25 22]\n",
      " [38 38 23 28 35]\n",
      " [24 35 35 26 20]\n",
      " [40 26 25 39 40]\n",
      " [30 22 26 38 34]]\n"
     ]
    }
   ],
   "source": [
    "temparature_data = np.random.randint(20, 41, size=150)\n",
    "reshape_temparature_data = temparature_data.reshape(30, 5)\n",
    "print(reshape_temparature_data)"
   ]
  },
  {
   "cell_type": "markdown",
   "id": "52419683",
   "metadata": {},
   "source": [
    "# Indexing and Slicing"
   ]
  },
  {
   "cell_type": "code",
   "execution_count": 13,
   "id": "56b305f7",
   "metadata": {},
   "outputs": [
    {
     "ename": "SyntaxError",
     "evalue": "invalid syntax (168252654.py, line 1)",
     "output_type": "error",
     "traceback": [
      "  \u001b[36mCell\u001b[39m\u001b[36m \u001b[39m\u001b[32mIn[13]\u001b[39m\u001b[32m, line 1\u001b[39m\n\u001b[31m    \u001b[39m\u001b[31mslicing = reshape_temparature_data[2:6 , :] print(slicing)\u001b[39m\n                                                ^\n\u001b[31mSyntaxError\u001b[39m\u001b[31m:\u001b[39m invalid syntax\n"
     ]
    }
   ],
   "source": [
    "slicing = reshape_temparature_data[2:6 , :] print(slicing)\n",
    "print(slicing)"
   ]
  }
 ],
 "metadata": {
  "kernelspec": {
   "display_name": "Python 3",
   "language": "python",
   "name": "python3"
  },
  "language_info": {
   "codemirror_mode": {
    "name": "ipython",
    "version": 3
   },
   "file_extension": ".py",
   "mimetype": "text/x-python",
   "name": "python",
   "nbconvert_exporter": "python",
   "pygments_lexer": "ipython3",
   "version": "3.13.5"
  }
 },
 "nbformat": 4,
 "nbformat_minor": 5
}
